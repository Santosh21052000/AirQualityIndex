{
 "cells": [
  {
   "cell_type": "code",
   "execution_count": 64,
   "id": "ef282aaf",
   "metadata": {},
   "outputs": [],
   "source": [
    "import numpy as np \n",
    "import pandas as pd \n",
    "\n",
    "import matplotlib.pyplot as plt\n",
    "import seaborn as sns\n",
    "from sklearn.model_selection import train_test_split\n",
    "from sklearn.preprocessing import scale\n",
    "from sklearn.ensemble import RandomForestRegressor\n",
    "from sklearn.linear_model import LinearRegression\n",
    "from sklearn.metrics import mean_squared_error,mean_absolute_error\n",
    "from imblearn.combine import SMOTETomek\n",
    "import datetime\n",
    "from sklearn.tree import DecisionTreeRegressor\n"
   ]
  },
  {
   "cell_type": "markdown",
   "id": "35aeb02e",
   "metadata": {},
   "source": [
    "## EDA"
   ]
  },
  {
   "cell_type": "code",
   "execution_count": 38,
   "id": "393f8676",
   "metadata": {},
   "outputs": [],
   "source": [
    "df = pd.read_csv(\"C:\\\\Users\\\\ASUS\\\\Downloads\\\\city_day_new.csv\")"
   ]
  },
  {
   "cell_type": "code",
   "execution_count": null,
   "id": "4ac2294a",
   "metadata": {},
   "outputs": [],
   "source": []
  },
  {
   "cell_type": "code",
   "execution_count": 39,
   "id": "d617b3f1",
   "metadata": {},
   "outputs": [
    {
     "data": {
      "text/html": [
       "<div>\n",
       "<style scoped>\n",
       "    .dataframe tbody tr th:only-of-type {\n",
       "        vertical-align: middle;\n",
       "    }\n",
       "\n",
       "    .dataframe tbody tr th {\n",
       "        vertical-align: top;\n",
       "    }\n",
       "\n",
       "    .dataframe thead th {\n",
       "        text-align: right;\n",
       "    }\n",
       "</style>\n",
       "<table border=\"1\" class=\"dataframe\">\n",
       "  <thead>\n",
       "    <tr style=\"text-align: right;\">\n",
       "      <th></th>\n",
       "      <th>City</th>\n",
       "      <th>Date</th>\n",
       "      <th>PM2.5</th>\n",
       "      <th>PM10</th>\n",
       "      <th>NO</th>\n",
       "      <th>NO2</th>\n",
       "      <th>NOx</th>\n",
       "      <th>NH3</th>\n",
       "      <th>CO</th>\n",
       "      <th>SO2</th>\n",
       "      <th>O3</th>\n",
       "      <th>Benzene</th>\n",
       "      <th>Toluene</th>\n",
       "      <th>Xylene</th>\n",
       "      <th>AQI</th>\n",
       "      <th>AQI_Bucket</th>\n",
       "    </tr>\n",
       "  </thead>\n",
       "  <tbody>\n",
       "    <tr>\n",
       "      <th>0</th>\n",
       "      <td>Ahmedabad</td>\n",
       "      <td>01-Jan-15</td>\n",
       "      <td>NaN</td>\n",
       "      <td>NaN</td>\n",
       "      <td>0.92</td>\n",
       "      <td>18.22</td>\n",
       "      <td>17.15</td>\n",
       "      <td>NaN</td>\n",
       "      <td>0.92</td>\n",
       "      <td>27.64</td>\n",
       "      <td>133.36</td>\n",
       "      <td>0.00</td>\n",
       "      <td>0.02</td>\n",
       "      <td>0.00</td>\n",
       "      <td>NaN</td>\n",
       "      <td>NaN</td>\n",
       "    </tr>\n",
       "    <tr>\n",
       "      <th>1</th>\n",
       "      <td>Ahmedabad</td>\n",
       "      <td>01-Feb-15</td>\n",
       "      <td>NaN</td>\n",
       "      <td>NaN</td>\n",
       "      <td>0.97</td>\n",
       "      <td>15.69</td>\n",
       "      <td>16.46</td>\n",
       "      <td>NaN</td>\n",
       "      <td>0.97</td>\n",
       "      <td>24.55</td>\n",
       "      <td>34.06</td>\n",
       "      <td>3.68</td>\n",
       "      <td>5.50</td>\n",
       "      <td>3.77</td>\n",
       "      <td>NaN</td>\n",
       "      <td>NaN</td>\n",
       "    </tr>\n",
       "    <tr>\n",
       "      <th>2</th>\n",
       "      <td>Ahmedabad</td>\n",
       "      <td>01-Mar-15</td>\n",
       "      <td>NaN</td>\n",
       "      <td>NaN</td>\n",
       "      <td>17.40</td>\n",
       "      <td>19.30</td>\n",
       "      <td>29.70</td>\n",
       "      <td>NaN</td>\n",
       "      <td>17.40</td>\n",
       "      <td>29.07</td>\n",
       "      <td>30.70</td>\n",
       "      <td>6.80</td>\n",
       "      <td>16.40</td>\n",
       "      <td>2.25</td>\n",
       "      <td>NaN</td>\n",
       "      <td>NaN</td>\n",
       "    </tr>\n",
       "    <tr>\n",
       "      <th>3</th>\n",
       "      <td>Ahmedabad</td>\n",
       "      <td>01-Apr-15</td>\n",
       "      <td>NaN</td>\n",
       "      <td>NaN</td>\n",
       "      <td>1.70</td>\n",
       "      <td>18.48</td>\n",
       "      <td>17.97</td>\n",
       "      <td>NaN</td>\n",
       "      <td>1.70</td>\n",
       "      <td>18.59</td>\n",
       "      <td>36.08</td>\n",
       "      <td>4.43</td>\n",
       "      <td>10.14</td>\n",
       "      <td>1.00</td>\n",
       "      <td>NaN</td>\n",
       "      <td>NaN</td>\n",
       "    </tr>\n",
       "    <tr>\n",
       "      <th>4</th>\n",
       "      <td>Ahmedabad</td>\n",
       "      <td>01-May-15</td>\n",
       "      <td>NaN</td>\n",
       "      <td>NaN</td>\n",
       "      <td>22.10</td>\n",
       "      <td>21.42</td>\n",
       "      <td>37.76</td>\n",
       "      <td>NaN</td>\n",
       "      <td>22.10</td>\n",
       "      <td>39.33</td>\n",
       "      <td>39.31</td>\n",
       "      <td>7.01</td>\n",
       "      <td>18.89</td>\n",
       "      <td>2.78</td>\n",
       "      <td>NaN</td>\n",
       "      <td>NaN</td>\n",
       "    </tr>\n",
       "  </tbody>\n",
       "</table>\n",
       "</div>"
      ],
      "text/plain": [
       "        City       Date  PM2.5  PM10     NO    NO2    NOx  NH3     CO    SO2  \\\n",
       "0  Ahmedabad  01-Jan-15    NaN   NaN   0.92  18.22  17.15  NaN   0.92  27.64   \n",
       "1  Ahmedabad  01-Feb-15    NaN   NaN   0.97  15.69  16.46  NaN   0.97  24.55   \n",
       "2  Ahmedabad  01-Mar-15    NaN   NaN  17.40  19.30  29.70  NaN  17.40  29.07   \n",
       "3  Ahmedabad  01-Apr-15    NaN   NaN   1.70  18.48  17.97  NaN   1.70  18.59   \n",
       "4  Ahmedabad  01-May-15    NaN   NaN  22.10  21.42  37.76  NaN  22.10  39.33   \n",
       "\n",
       "       O3  Benzene  Toluene  Xylene  AQI AQI_Bucket  \n",
       "0  133.36     0.00     0.02    0.00  NaN        NaN  \n",
       "1   34.06     3.68     5.50    3.77  NaN        NaN  \n",
       "2   30.70     6.80    16.40    2.25  NaN        NaN  \n",
       "3   36.08     4.43    10.14    1.00  NaN        NaN  \n",
       "4   39.31     7.01    18.89    2.78  NaN        NaN  "
      ]
     },
     "execution_count": 39,
     "metadata": {},
     "output_type": "execute_result"
    }
   ],
   "source": [
    "df.head()"
   ]
  },
  {
   "cell_type": "code",
   "execution_count": 4,
   "id": "cc8ed2fb",
   "metadata": {},
   "outputs": [
    {
     "data": {
      "text/plain": [
       "25"
      ]
     },
     "execution_count": 4,
     "metadata": {},
     "output_type": "execute_result"
    }
   ],
   "source": [
    "len(df['City'].unique())"
   ]
  },
  {
   "cell_type": "code",
   "execution_count": 5,
   "id": "d3ec380d",
   "metadata": {},
   "outputs": [],
   "source": [
    "l=df['City'].value_counts().head(10).index"
   ]
  },
  {
   "cell_type": "code",
   "execution_count": 6,
   "id": "a7b8c9a0",
   "metadata": {},
   "outputs": [
    {
     "data": {
      "text/plain": [
       "Index(['Ahmedabad', 'Delhi', 'Mumbai', 'Bengaluru', 'Lucknow', 'Chennai',\n",
       "       'Hyderabad', 'Patna', 'Gurugram', 'Visakhapatnam'],\n",
       "      dtype='object')"
      ]
     },
     "execution_count": 6,
     "metadata": {},
     "output_type": "execute_result"
    }
   ],
   "source": [
    "l"
   ]
  },
  {
   "cell_type": "code",
   "execution_count": 7,
   "id": "11bd7ecd",
   "metadata": {},
   "outputs": [
    {
     "name": "stdout",
     "output_type": "stream",
     "text": [
      "<class 'pandas.core.frame.DataFrame'>\n",
      "RangeIndex: 28474 entries, 0 to 28473\n",
      "Data columns (total 16 columns):\n",
      " #   Column      Non-Null Count  Dtype  \n",
      "---  ------      --------------  -----  \n",
      " 0   City        28474 non-null  object \n",
      " 1   Date        28474 non-null  object \n",
      " 2   PM2.5       23920 non-null  float64\n",
      " 3   PM10        17465 non-null  float64\n",
      " 4   NO          25011 non-null  float64\n",
      " 5   NO2         24966 non-null  float64\n",
      " 6   NOx         24330 non-null  float64\n",
      " 7   NH3         18335 non-null  float64\n",
      " 8   CO          26452 non-null  float64\n",
      " 9   SO2         24674 non-null  float64\n",
      " 10  O3          24526 non-null  float64\n",
      " 11  Benzene     22964 non-null  float64\n",
      " 12  Toluene     20635 non-null  float64\n",
      " 13  Xylene      11239 non-null  float64\n",
      " 14  AQI         23894 non-null  float64\n",
      " 15  AQI_Bucket  23894 non-null  object \n",
      "dtypes: float64(13), object(3)\n",
      "memory usage: 3.5+ MB\n"
     ]
    }
   ],
   "source": [
    "df.info()"
   ]
  },
  {
   "cell_type": "code",
   "execution_count": 8,
   "id": "6113408d",
   "metadata": {},
   "outputs": [
    {
     "data": {
      "text/html": [
       "<div>\n",
       "<style scoped>\n",
       "    .dataframe tbody tr th:only-of-type {\n",
       "        vertical-align: middle;\n",
       "    }\n",
       "\n",
       "    .dataframe tbody tr th {\n",
       "        vertical-align: top;\n",
       "    }\n",
       "\n",
       "    .dataframe thead th {\n",
       "        text-align: right;\n",
       "    }\n",
       "</style>\n",
       "<table border=\"1\" class=\"dataframe\">\n",
       "  <thead>\n",
       "    <tr style=\"text-align: right;\">\n",
       "      <th></th>\n",
       "      <th>City</th>\n",
       "      <th>PM2.5</th>\n",
       "      <th>PM10</th>\n",
       "      <th>NO</th>\n",
       "      <th>NO2</th>\n",
       "      <th>NOx</th>\n",
       "      <th>NH3</th>\n",
       "      <th>CO</th>\n",
       "      <th>SO2</th>\n",
       "      <th>O3</th>\n",
       "      <th>Benzene</th>\n",
       "      <th>Toluene</th>\n",
       "      <th>Xylene</th>\n",
       "      <th>AQI</th>\n",
       "      <th>Year</th>\n",
       "      <th>Month</th>\n",
       "      <th>Day</th>\n",
       "    </tr>\n",
       "  </thead>\n",
       "  <tbody>\n",
       "    <tr>\n",
       "      <th>0</th>\n",
       "      <td>Ahmedabad</td>\n",
       "      <td>NaN</td>\n",
       "      <td>NaN</td>\n",
       "      <td>0.92</td>\n",
       "      <td>18.22</td>\n",
       "      <td>17.15</td>\n",
       "      <td>NaN</td>\n",
       "      <td>0.92</td>\n",
       "      <td>27.64</td>\n",
       "      <td>133.36</td>\n",
       "      <td>0.00</td>\n",
       "      <td>0.02</td>\n",
       "      <td>0.00</td>\n",
       "      <td>NaN</td>\n",
       "      <td>1</td>\n",
       "      <td>1</td>\n",
       "      <td>15</td>\n",
       "    </tr>\n",
       "    <tr>\n",
       "      <th>1</th>\n",
       "      <td>Ahmedabad</td>\n",
       "      <td>NaN</td>\n",
       "      <td>NaN</td>\n",
       "      <td>0.97</td>\n",
       "      <td>15.69</td>\n",
       "      <td>16.46</td>\n",
       "      <td>NaN</td>\n",
       "      <td>0.97</td>\n",
       "      <td>24.55</td>\n",
       "      <td>34.06</td>\n",
       "      <td>3.68</td>\n",
       "      <td>5.50</td>\n",
       "      <td>3.77</td>\n",
       "      <td>NaN</td>\n",
       "      <td>1</td>\n",
       "      <td>2</td>\n",
       "      <td>15</td>\n",
       "    </tr>\n",
       "    <tr>\n",
       "      <th>2</th>\n",
       "      <td>Ahmedabad</td>\n",
       "      <td>NaN</td>\n",
       "      <td>NaN</td>\n",
       "      <td>17.40</td>\n",
       "      <td>19.30</td>\n",
       "      <td>29.70</td>\n",
       "      <td>NaN</td>\n",
       "      <td>17.40</td>\n",
       "      <td>29.07</td>\n",
       "      <td>30.70</td>\n",
       "      <td>6.80</td>\n",
       "      <td>16.40</td>\n",
       "      <td>2.25</td>\n",
       "      <td>NaN</td>\n",
       "      <td>1</td>\n",
       "      <td>3</td>\n",
       "      <td>15</td>\n",
       "    </tr>\n",
       "    <tr>\n",
       "      <th>3</th>\n",
       "      <td>Ahmedabad</td>\n",
       "      <td>NaN</td>\n",
       "      <td>NaN</td>\n",
       "      <td>1.70</td>\n",
       "      <td>18.48</td>\n",
       "      <td>17.97</td>\n",
       "      <td>NaN</td>\n",
       "      <td>1.70</td>\n",
       "      <td>18.59</td>\n",
       "      <td>36.08</td>\n",
       "      <td>4.43</td>\n",
       "      <td>10.14</td>\n",
       "      <td>1.00</td>\n",
       "      <td>NaN</td>\n",
       "      <td>1</td>\n",
       "      <td>4</td>\n",
       "      <td>15</td>\n",
       "    </tr>\n",
       "    <tr>\n",
       "      <th>4</th>\n",
       "      <td>Ahmedabad</td>\n",
       "      <td>NaN</td>\n",
       "      <td>NaN</td>\n",
       "      <td>22.10</td>\n",
       "      <td>21.42</td>\n",
       "      <td>37.76</td>\n",
       "      <td>NaN</td>\n",
       "      <td>22.10</td>\n",
       "      <td>39.33</td>\n",
       "      <td>39.31</td>\n",
       "      <td>7.01</td>\n",
       "      <td>18.89</td>\n",
       "      <td>2.78</td>\n",
       "      <td>NaN</td>\n",
       "      <td>1</td>\n",
       "      <td>5</td>\n",
       "      <td>15</td>\n",
       "    </tr>\n",
       "    <tr>\n",
       "      <th>...</th>\n",
       "      <td>...</td>\n",
       "      <td>...</td>\n",
       "      <td>...</td>\n",
       "      <td>...</td>\n",
       "      <td>...</td>\n",
       "      <td>...</td>\n",
       "      <td>...</td>\n",
       "      <td>...</td>\n",
       "      <td>...</td>\n",
       "      <td>...</td>\n",
       "      <td>...</td>\n",
       "      <td>...</td>\n",
       "      <td>...</td>\n",
       "      <td>...</td>\n",
       "      <td>...</td>\n",
       "      <td>...</td>\n",
       "      <td>...</td>\n",
       "    </tr>\n",
       "    <tr>\n",
       "      <th>28469</th>\n",
       "      <td>Visakhapatnam</td>\n",
       "      <td>15.02</td>\n",
       "      <td>50.94</td>\n",
       "      <td>7.68</td>\n",
       "      <td>25.06</td>\n",
       "      <td>19.54</td>\n",
       "      <td>12.47</td>\n",
       "      <td>0.47</td>\n",
       "      <td>8.55</td>\n",
       "      <td>23.30</td>\n",
       "      <td>2.24</td>\n",
       "      <td>12.07</td>\n",
       "      <td>0.73</td>\n",
       "      <td>41.0</td>\n",
       "      <td>27</td>\n",
       "      <td>6</td>\n",
       "      <td>20</td>\n",
       "    </tr>\n",
       "    <tr>\n",
       "      <th>28470</th>\n",
       "      <td>Visakhapatnam</td>\n",
       "      <td>24.38</td>\n",
       "      <td>74.09</td>\n",
       "      <td>3.42</td>\n",
       "      <td>26.06</td>\n",
       "      <td>16.53</td>\n",
       "      <td>11.99</td>\n",
       "      <td>0.52</td>\n",
       "      <td>12.72</td>\n",
       "      <td>30.14</td>\n",
       "      <td>0.74</td>\n",
       "      <td>2.21</td>\n",
       "      <td>0.38</td>\n",
       "      <td>70.0</td>\n",
       "      <td>28</td>\n",
       "      <td>6</td>\n",
       "      <td>20</td>\n",
       "    </tr>\n",
       "    <tr>\n",
       "      <th>28471</th>\n",
       "      <td>Visakhapatnam</td>\n",
       "      <td>22.91</td>\n",
       "      <td>65.73</td>\n",
       "      <td>3.45</td>\n",
       "      <td>29.53</td>\n",
       "      <td>18.33</td>\n",
       "      <td>10.71</td>\n",
       "      <td>0.48</td>\n",
       "      <td>8.42</td>\n",
       "      <td>30.96</td>\n",
       "      <td>0.01</td>\n",
       "      <td>0.01</td>\n",
       "      <td>0.00</td>\n",
       "      <td>68.0</td>\n",
       "      <td>29</td>\n",
       "      <td>6</td>\n",
       "      <td>20</td>\n",
       "    </tr>\n",
       "    <tr>\n",
       "      <th>28472</th>\n",
       "      <td>Visakhapatnam</td>\n",
       "      <td>16.64</td>\n",
       "      <td>49.97</td>\n",
       "      <td>4.05</td>\n",
       "      <td>29.26</td>\n",
       "      <td>18.80</td>\n",
       "      <td>10.03</td>\n",
       "      <td>0.52</td>\n",
       "      <td>9.84</td>\n",
       "      <td>28.30</td>\n",
       "      <td>0.00</td>\n",
       "      <td>0.00</td>\n",
       "      <td>0.00</td>\n",
       "      <td>54.0</td>\n",
       "      <td>30</td>\n",
       "      <td>6</td>\n",
       "      <td>20</td>\n",
       "    </tr>\n",
       "    <tr>\n",
       "      <th>28473</th>\n",
       "      <td>Visakhapatnam</td>\n",
       "      <td>15.00</td>\n",
       "      <td>66.00</td>\n",
       "      <td>0.40</td>\n",
       "      <td>26.85</td>\n",
       "      <td>14.05</td>\n",
       "      <td>5.20</td>\n",
       "      <td>0.59</td>\n",
       "      <td>2.10</td>\n",
       "      <td>17.05</td>\n",
       "      <td>NaN</td>\n",
       "      <td>NaN</td>\n",
       "      <td>NaN</td>\n",
       "      <td>50.0</td>\n",
       "      <td>7</td>\n",
       "      <td>1</td>\n",
       "      <td>20</td>\n",
       "    </tr>\n",
       "  </tbody>\n",
       "</table>\n",
       "<p>28474 rows × 17 columns</p>\n",
       "</div>"
      ],
      "text/plain": [
       "                City  PM2.5   PM10     NO    NO2    NOx    NH3     CO    SO2  \\\n",
       "0          Ahmedabad    NaN    NaN   0.92  18.22  17.15    NaN   0.92  27.64   \n",
       "1          Ahmedabad    NaN    NaN   0.97  15.69  16.46    NaN   0.97  24.55   \n",
       "2          Ahmedabad    NaN    NaN  17.40  19.30  29.70    NaN  17.40  29.07   \n",
       "3          Ahmedabad    NaN    NaN   1.70  18.48  17.97    NaN   1.70  18.59   \n",
       "4          Ahmedabad    NaN    NaN  22.10  21.42  37.76    NaN  22.10  39.33   \n",
       "...              ...    ...    ...    ...    ...    ...    ...    ...    ...   \n",
       "28469  Visakhapatnam  15.02  50.94   7.68  25.06  19.54  12.47   0.47   8.55   \n",
       "28470  Visakhapatnam  24.38  74.09   3.42  26.06  16.53  11.99   0.52  12.72   \n",
       "28471  Visakhapatnam  22.91  65.73   3.45  29.53  18.33  10.71   0.48   8.42   \n",
       "28472  Visakhapatnam  16.64  49.97   4.05  29.26  18.80  10.03   0.52   9.84   \n",
       "28473  Visakhapatnam  15.00  66.00   0.40  26.85  14.05   5.20   0.59   2.10   \n",
       "\n",
       "           O3  Benzene  Toluene  Xylene   AQI  Year  Month  Day  \n",
       "0      133.36     0.00     0.02    0.00   NaN     1      1   15  \n",
       "1       34.06     3.68     5.50    3.77   NaN     1      2   15  \n",
       "2       30.70     6.80    16.40    2.25   NaN     1      3   15  \n",
       "3       36.08     4.43    10.14    1.00   NaN     1      4   15  \n",
       "4       39.31     7.01    18.89    2.78   NaN     1      5   15  \n",
       "...       ...      ...      ...     ...   ...   ...    ...  ...  \n",
       "28469   23.30     2.24    12.07    0.73  41.0    27      6   20  \n",
       "28470   30.14     0.74     2.21    0.38  70.0    28      6   20  \n",
       "28471   30.96     0.01     0.01    0.00  68.0    29      6   20  \n",
       "28472   28.30     0.00     0.00    0.00  54.0    30      6   20  \n",
       "28473   17.05      NaN      NaN     NaN  50.0     7      1   20  \n",
       "\n",
       "[28474 rows x 17 columns]"
      ]
     },
     "execution_count": 8,
     "metadata": {},
     "output_type": "execute_result"
    }
   ],
   "source": [
    "df[[\"Year\",\"Month\",\"Day\"]] = df[\"Date\"].str.split(\"-\",expand=True)\n",
    "df[\"Year\"] = df[\"Year\"].astype(int)\n",
    "df[\"Day\"] = df[\"Day\"].astype(int)\n",
    "dict = {\n",
    "            'Jan': 1,\n",
    "            'Feb': 2,\n",
    "            'Mar': 3,\n",
    "            'Apr': 4,\n",
    "            'May': 5,\n",
    "            'Jun': 6,\n",
    "            'Jul': 7,\n",
    "            'Aug': 8,\n",
    "            'Sep': 9, \n",
    "            'Oct': 10,\n",
    "            'Nov': 11,\n",
    "            'Dec': 12\n",
    "    }\n",
    "df[\"Month\"].replace(dict,inplace=True)\n",
    "df=df.drop([\"Date\",\"AQI_Bucket\"],axis=1)\n",
    "df"
   ]
  },
  {
   "cell_type": "code",
   "execution_count": 9,
   "id": "279d06d8",
   "metadata": {},
   "outputs": [
    {
     "name": "stdout",
     "output_type": "stream",
     "text": [
      "<class 'pandas.core.frame.DataFrame'>\n",
      "RangeIndex: 28474 entries, 0 to 28473\n",
      "Data columns (total 17 columns):\n",
      " #   Column   Non-Null Count  Dtype  \n",
      "---  ------   --------------  -----  \n",
      " 0   City     28474 non-null  object \n",
      " 1   PM2.5    23920 non-null  float64\n",
      " 2   PM10     17465 non-null  float64\n",
      " 3   NO       25011 non-null  float64\n",
      " 4   NO2      24966 non-null  float64\n",
      " 5   NOx      24330 non-null  float64\n",
      " 6   NH3      18335 non-null  float64\n",
      " 7   CO       26452 non-null  float64\n",
      " 8   SO2      24674 non-null  float64\n",
      " 9   O3       24526 non-null  float64\n",
      " 10  Benzene  22964 non-null  float64\n",
      " 11  Toluene  20635 non-null  float64\n",
      " 12  Xylene   11239 non-null  float64\n",
      " 13  AQI      23894 non-null  float64\n",
      " 14  Year     28474 non-null  int32  \n",
      " 15  Month    28474 non-null  int64  \n",
      " 16  Day      28474 non-null  int32  \n",
      "dtypes: float64(13), int32(2), int64(1), object(1)\n",
      "memory usage: 3.5+ MB\n"
     ]
    }
   ],
   "source": [
    "df.info()"
   ]
  },
  {
   "cell_type": "markdown",
   "id": "dd407c79",
   "metadata": {},
   "source": [
    "## Numerical Features"
   ]
  },
  {
   "cell_type": "code",
   "execution_count": 10,
   "id": "87d91897",
   "metadata": {},
   "outputs": [],
   "source": [
    "Numerical_features=[features for features in df.columns if df[features].dtype!='O']"
   ]
  },
  {
   "cell_type": "code",
   "execution_count": 11,
   "id": "704e4f66",
   "metadata": {},
   "outputs": [
    {
     "data": {
      "text/plain": [
       "['PM2.5',\n",
       " 'PM10',\n",
       " 'NO',\n",
       " 'NO2',\n",
       " 'NOx',\n",
       " 'NH3',\n",
       " 'CO',\n",
       " 'SO2',\n",
       " 'O3',\n",
       " 'Benzene',\n",
       " 'Toluene',\n",
       " 'Xylene',\n",
       " 'AQI',\n",
       " 'Year',\n",
       " 'Month',\n",
       " 'Day']"
      ]
     },
     "execution_count": 11,
     "metadata": {},
     "output_type": "execute_result"
    }
   ],
   "source": [
    "Numerical_features"
   ]
  },
  {
   "cell_type": "code",
   "execution_count": 12,
   "id": "25725226",
   "metadata": {},
   "outputs": [],
   "source": [
    "Categorical_features=[features for features in df.columns if features not in Numerical_features]"
   ]
  },
  {
   "cell_type": "code",
   "execution_count": 13,
   "id": "d893ebb3",
   "metadata": {},
   "outputs": [
    {
     "data": {
      "text/plain": [
       "['City']"
      ]
     },
     "execution_count": 13,
     "metadata": {},
     "output_type": "execute_result"
    }
   ],
   "source": [
    "Categorical_features"
   ]
  },
  {
   "cell_type": "code",
   "execution_count": 14,
   "id": "fd6c2560",
   "metadata": {},
   "outputs": [
    {
     "name": "stdout",
     "output_type": "stream",
     "text": [
      "No of unique values in City:25\n"
     ]
    }
   ],
   "source": [
    "for features in Categorical_features:\n",
    "    print(f\"No of unique values in {features}:{len(df[features].unique())}\")"
   ]
  },
  {
   "cell_type": "markdown",
   "id": "f485eef5",
   "metadata": {},
   "source": [
    "## Missing Values:"
   ]
  },
  {
   "cell_type": "code",
   "execution_count": 15,
   "id": "6685c0d5",
   "metadata": {},
   "outputs": [
    {
     "data": {
      "text/plain": [
       "City           0\n",
       "PM2.5       4554\n",
       "PM10       11009\n",
       "NO          3463\n",
       "NO2         3508\n",
       "NOx         4144\n",
       "NH3        10139\n",
       "CO          2022\n",
       "SO2         3800\n",
       "O3          3948\n",
       "Benzene     5510\n",
       "Toluene     7839\n",
       "Xylene     17235\n",
       "AQI         4580\n",
       "Year           0\n",
       "Month          0\n",
       "Day            0\n",
       "dtype: int64"
      ]
     },
     "execution_count": 15,
     "metadata": {},
     "output_type": "execute_result"
    }
   ],
   "source": [
    "df.isnull().sum()"
   ]
  },
  {
   "cell_type": "code",
   "execution_count": 16,
   "id": "aab37e29",
   "metadata": {},
   "outputs": [
    {
     "data": {
      "text/plain": [
       "(28474, 17)"
      ]
     },
     "execution_count": 16,
     "metadata": {},
     "output_type": "execute_result"
    }
   ],
   "source": [
    "df.shape"
   ]
  },
  {
   "cell_type": "code",
   "execution_count": 17,
   "id": "4f6f534e",
   "metadata": {},
   "outputs": [
    {
     "name": "stdout",
     "output_type": "stream",
     "text": [
      "The percentage of null values of City is :  0.0\n",
      "The percentage of null values of PM2.5 is :  0.16\n",
      "The percentage of null values of PM10 is :  0.39\n",
      "The percentage of null values of NO is :  0.12\n",
      "The percentage of null values of NO2 is :  0.12\n",
      "The percentage of null values of NOx is :  0.15\n",
      "The percentage of null values of NH3 is :  0.36\n",
      "The percentage of null values of CO is :  0.07\n",
      "The percentage of null values of SO2 is :  0.13\n",
      "The percentage of null values of O3 is :  0.14\n",
      "The percentage of null values of Benzene is :  0.19\n",
      "The percentage of null values of Toluene is :  0.28\n",
      "The percentage of null values of Xylene is :  0.61\n",
      "The percentage of null values of AQI is :  0.16\n",
      "The percentage of null values of Year is :  0.0\n",
      "The percentage of null values of Month is :  0.0\n",
      "The percentage of null values of Day is :  0.0\n"
     ]
    }
   ],
   "source": [
    "for features in df.columns:\n",
    "    print(f\"The percentage of null values of {features} is :  {round(df[features].isnull().sum()/df.shape[0],2)}\")"
   ]
  },
  {
   "cell_type": "markdown",
   "id": "39bd6d4b",
   "metadata": {},
   "source": [
    "## Distribution of Numerical Features"
   ]
  },
  {
   "cell_type": "code",
   "execution_count": 18,
   "id": "93cd3b98",
   "metadata": {},
   "outputs": [
    {
     "name": "stderr",
     "output_type": "stream",
     "text": [
      "C:\\Users\\ASUS\\anaconda3\\lib\\site-packages\\seaborn\\distributions.py:2619: FutureWarning: `distplot` is a deprecated function and will be removed in a future version. Please adapt your code to use either `displot` (a figure-level function with similar flexibility) or `histplot` (an axes-level function for histograms).\n",
      "  warnings.warn(msg, FutureWarning)\n"
     ]
    },
    {
     "data": {
      "image/png": "[encoded data removed]",
      "text/plain": [
       "<Figure size 432x288 with 1 Axes>"
      ]
     },
     "metadata": {
      "needs_background": "light"
     },
     "output_type": "display_data"
    },
    {
     "name": "stderr",
     "output_type": "stream",
     "text": [
      "C:\\Users\\ASUS\\anaconda3\\lib\\site-packages\\seaborn\\distributions.py:2619: FutureWarning: `distplot` is a deprecated function and will be removed in a future version. Please adapt your code to use either `displot` (a figure-level function with similar flexibility) or `histplot` (an axes-level function for histograms).\n",
      "  warnings.warn(msg, FutureWarning)\n"
     ]
    },
    {
     "data": {
      "image/png": "[encoded data removed]",
      "text/plain": [
       "<Figure size 432x288 with 1 Axes>"
      ]
     },
     "metadata": {
      "needs_background": "light"
     },
     "output_type": "display_data"
    },
    {
     "name": "stderr",
     "output_type": "stream",
     "text": [
      "C:\\Users\\ASUS\\anaconda3\\lib\\site-packages\\seaborn\\distributions.py:2619: FutureWarning: `distplot` is a deprecated function and will be removed in a future version. Please adapt your code to use either `displot` (a figure-level function with similar flexibility) or `histplot` (an axes-level function for histograms).\n",
      "  warnings.warn(msg, FutureWarning)\n"
     ]
    },
    {
     "data": {
      "image/png": "[encoded data removed]",
      "text/plain": [
       "<Figure size 432x288 with 1 Axes>"
      ]
     },
     "metadata": {
      "needs_background": "light"
     },
     "output_type": "display_data"
    },
    {
     "name": "stderr",
     "output_type": "stream",
     "text": [
      "C:\\Users\\ASUS\\anaconda3\\lib\\site-packages\\seaborn\\distributions.py:2619: FutureWarning: `distplot` is a deprecated function and will be removed in a future version. Please adapt your code to use either `displot` (a figure-level function with similar flexibility) or `histplot` (an axes-level function for histograms).\n",
      "  warnings.warn(msg, FutureWarning)\n"
     ]
    },
    {
     "data": {
      "image/png": "[encoded data removed]",
      "text/plain": [
       "<Figure size 432x288 with 1 Axes>"
      ]
     },
     "metadata": {
      "needs_background": "light"
     },
     "output_type": "display_data"
    },
    {
     "name": "stderr",
     "output_type": "stream",
     "text": [
      "C:\\Users\\ASUS\\anaconda3\\lib\\site-packages\\seaborn\\distributions.py:2619: FutureWarning: `distplot` is a deprecated function and will be removed in a future version. Please adapt your code to use either `displot` (a figure-level function with similar flexibility) or `histplot` (an axes-level function for histograms).\n",
      "  warnings.warn(msg, FutureWarning)\n"
     ]
    },
    {
     "data": {
      "image/png": "[encoded data removed]",
      "text/plain": [
       "<Figure size 432x288 with 1 Axes>"
      ]
     },
     "metadata": {
      "needs_background": "light"
     },
     "output_type": "display_data"
    },
    {
     "name": "stderr",
     "output_type": "stream",
     "text": [
      "C:\\Users\\ASUS\\anaconda3\\lib\\site-packages\\seaborn\\distributions.py:2619: FutureWarning: `distplot` is a deprecated function and will be removed in a future version. Please adapt your code to use either `displot` (a figure-level function with similar flexibility) or `histplot` (an axes-level function for histograms).\n",
      "  warnings.warn(msg, FutureWarning)\n"
     ]
    },
    {
     "data": {
      "image/png": "[encoded data removed]",
      "text/plain": [
       "<Figure size 432x288 with 1 Axes>"
      ]
     },
     "metadata": {
      "needs_background": "light"
     },
     "output_type": "display_data"
    },
    {
     "name": "stderr",
     "output_type": "stream",
     "text": [
      "C:\\Users\\ASUS\\anaconda3\\lib\\site-packages\\seaborn\\distributions.py:2619: FutureWarning: `distplot` is a deprecated function and will be removed in a future version. Please adapt your code to use either `displot` (a figure-level function with similar flexibility) or `histplot` (an axes-level function for histograms).\n",
      "  warnings.warn(msg, FutureWarning)\n"
     ]
    },
    {
     "data": {
      "image/png": "[encoded data removed]",
      "text/plain": [
       "<Figure size 432x288 with 1 Axes>"
      ]
     },
     "metadata": {
      "needs_background": "light"
     },
     "output_type": "display_data"
    },
    {
     "name": "stderr",
     "output_type": "stream",
     "text": [
      "C:\\Users\\ASUS\\anaconda3\\lib\\site-packages\\seaborn\\distributions.py:2619: FutureWarning: `distplot` is a deprecated function and will be removed in a future version. Please adapt your code to use either `displot` (a figure-level function with similar flexibility) or `histplot` (an axes-level function for histograms).\n",
      "  warnings.warn(msg, FutureWarning)\n"
     ]
    },
    {
     "data": {
      "image/png": "[encoded data removed]",
      "text/plain": [
       "<Figure size 432x288 with 1 Axes>"
      ]
     },
     "metadata": {
      "needs_background": "light"
     },
     "output_type": "display_data"
    },
    {
     "name": "stderr",
     "output_type": "stream",
     "text": [
      "C:\\Users\\ASUS\\anaconda3\\lib\\site-packages\\seaborn\\distributions.py:2619: FutureWarning: `distplot` is a deprecated function and will be removed in a future version. Please adapt your code to use either `displot` (a figure-level function with similar flexibility) or `histplot` (an axes-level function for histograms).\n",
      "  warnings.warn(msg, FutureWarning)\n"
     ]
    },
    {
     "data": {
      "image/png": "[encoded data removed]",
      "text/plain": [
       "<Figure size 432x288 with 1 Axes>"
      ]
     },
     "metadata": {
      "needs_background": "light"
     },
     "output_type": "display_data"
    },
    {
     "name": "stderr",
     "output_type": "stream",
     "text": [
      "C:\\Users\\ASUS\\anaconda3\\lib\\site-packages\\seaborn\\distributions.py:2619: FutureWarning: `distplot` is a deprecated function and will be removed in a future version. Please adapt your code to use either `displot` (a figure-level function with similar flexibility) or `histplot` (an axes-level function for histograms).\n",
      "  warnings.warn(msg, FutureWarning)\n"
     ]
    },
    {
     "data": {
      "image/png": "[encoded data removed]",
      "text/plain": [
       "<Figure size 432x288 with 1 Axes>"
      ]
     },
     "metadata": {
      "needs_background": "light"
     },
     "output_type": "display_data"
    },
    {
     "name": "stderr",
     "output_type": "stream",
     "text": [
      "C:\\Users\\ASUS\\anaconda3\\lib\\site-packages\\seaborn\\distributions.py:2619: FutureWarning: `distplot` is a deprecated function and will be removed in a future version. Please adapt your code to use either `displot` (a figure-level function with similar flexibility) or `histplot` (an axes-level function for histograms).\n",
      "  warnings.warn(msg, FutureWarning)\n"
     ]
    },
    {
     "data": {
      "image/png": "[encoded data removed]",
      "text/plain": [
       "<Figure size 432x288 with 1 Axes>"
      ]
     },
     "metadata": {
      "needs_background": "light"
     },
     "output_type": "display_data"
    },
    {
     "name": "stderr",
     "output_type": "stream",
     "text": [
      "C:\\Users\\ASUS\\anaconda3\\lib\\site-packages\\seaborn\\distributions.py:2619: FutureWarning: `distplot` is a deprecated function and will be removed in a future version. Please adapt your code to use either `displot` (a figure-level function with similar flexibility) or `histplot` (an axes-level function for histograms).\n",
      "  warnings.warn(msg, FutureWarning)\n"
     ]
    },
    {
     "data": {
      "image/png": "[encoded data removed]",
      "text/plain": [
       "<Figure size 432x288 with 1 Axes>"
      ]
     },
     "metadata": {
      "needs_background": "light"
     },
     "output_type": "display_data"
    },
    {
     "name": "stderr",
     "output_type": "stream",
     "text": [
      "C:\\Users\\ASUS\\anaconda3\\lib\\site-packages\\seaborn\\distributions.py:2619: FutureWarning: `distplot` is a deprecated function and will be removed in a future version. Please adapt your code to use either `displot` (a figure-level function with similar flexibility) or `histplot` (an axes-level function for histograms).\n",
      "  warnings.warn(msg, FutureWarning)\n"
     ]
    },
    {
     "data": {
      "image/png": "[encoded data removed]",
      "text/plain": [
       "<Figure size 432x288 with 1 Axes>"
      ]
     },
     "metadata": {
      "needs_background": "light"
     },
     "output_type": "display_data"
    },
    {
     "name": "stderr",
     "output_type": "stream",
     "text": [
      "C:\\Users\\ASUS\\anaconda3\\lib\\site-packages\\seaborn\\distributions.py:2619: FutureWarning: `distplot` is a deprecated function and will be removed in a future version. Please adapt your code to use either `displot` (a figure-level function with similar flexibility) or `histplot` (an axes-level function for histograms).\n",
      "  warnings.warn(msg, FutureWarning)\n"
     ]
    },
    {
     "data": {
      "image/png": "[encoded data removed]",
      "text/plain": [
       "<Figure size 432x288 with 1 Axes>"
      ]
     },
     "metadata": {
      "needs_background": "light"
     },
     "output_type": "display_data"
    },
    {
     "name": "stderr",
     "output_type": "stream",
     "text": [
      "C:\\Users\\ASUS\\anaconda3\\lib\\site-packages\\seaborn\\distributions.py:2619: FutureWarning: `distplot` is a deprecated function and will be removed in a future version. Please adapt your code to use either `displot` (a figure-level function with similar flexibility) or `histplot` (an axes-level function for histograms).\n",
      "  warnings.warn(msg, FutureWarning)\n"
     ]
    },
    {
     "data": {
      "image/png": "[encoded data removed]",
      "text/plain": [
       "<Figure size 432x288 with 1 Axes>"
      ]
     },
     "metadata": {
      "needs_background": "light"
     },
     "output_type": "display_data"
    },
    {
     "name": "stderr",
     "output_type": "stream",
     "text": [
      "C:\\Users\\ASUS\\anaconda3\\lib\\site-packages\\seaborn\\distributions.py:2619: FutureWarning: `distplot` is a deprecated function and will be removed in a future version. Please adapt your code to use either `displot` (a figure-level function with similar flexibility) or `histplot` (an axes-level function for histograms).\n",
      "  warnings.warn(msg, FutureWarning)\n"
     ]
    },
    {
     "data": {
      "image/png": "[encoded data removed]",
      "text/plain": [
       "<Figure size 432x288 with 1 Axes>"
      ]
     },
     "metadata": {
      "needs_background": "light"
     },
     "output_type": "display_data"
    }
   ],
   "source": [
    "for features in Numerical_features:\n",
    "    sns.distplot(df[features])\n",
    "    plt.xlabel(features)\n",
    "    plt.ylabel('PDF')\n",
    "    plt.show()"
   ]
  },
  {
   "cell_type": "code",
   "execution_count": 19,
   "id": "9a8b96e1",
   "metadata": {},
   "outputs": [
    {
     "data": {
      "image/png": "[encoded data removed]",
      "text/plain": [
       "<Figure size 432x288 with 1 Axes>"
      ]
     },
     "metadata": {
      "needs_background": "light"
     },
     "output_type": "display_data"
    }
   ],
   "source": [
    "for features in Categorical_features:\n",
    "    sns.barplot(x =features, y ='AQI', data = df, palette ='plasma')\n",
    "    plt.show()\n",
    "    "
   ]
  },
  {
   "cell_type": "markdown",
   "id": "bc1cf517",
   "metadata": {},
   "source": [
    "## outliers"
   ]
  },
  {
   "cell_type": "code",
   "execution_count": 20,
   "id": "76ed1f4b",
   "metadata": {},
   "outputs": [
    {
     "data": {
      "image/png": "[encoded data removed]",
      "text/plain": [
       "<Figure size 432x288 with 1 Axes>"
      ]
     },
     "metadata": {
      "needs_background": "light"
     },
     "output_type": "display_data"
    },
    {
     "data": {
      "image/png": "[encoded data removed]",
      "text/plain": [
       "<Figure size 432x288 with 1 Axes>"
      ]
     },
     "metadata": {
      "needs_background": "light"
     },
     "output_type": "display_data"
    },
    {
     "data": {
      "image/png": "[encoded data removed]",
      "text/plain": [
       "<Figure size 432x288 with 1 Axes>"
      ]
     },
     "metadata": {
      "needs_background": "light"
     },
     "output_type": "display_data"
    },
    {
     "data": {
      "image/png": "[encoded data removed]",
      "text/plain": [
       "<Figure size 432x288 with 1 Axes>"
      ]
     },
     "metadata": {
      "needs_background": "light"
     },
     "output_type": "display_data"
    },
    {
     "data": {
      "image/png": "[encoded data removed]",
      "text/plain": [
       "<Figure size 432x288 with 1 Axes>"
      ]
     },
     "metadata": {
      "needs_background": "light"
     },
     "output_type": "display_data"
    },
    {
     "data": {
      "image/png": "[encoded data removed]",
      "text/plain": [
       "<Figure size 432x288 with 1 Axes>"
      ]
     },
     "metadata": {
      "needs_background": "light"
     },
     "output_type": "display_data"
    },
    {
     "data": {
      "image/png": "[encoded data removed]",
      "text/plain": [
       "<Figure size 432x288 with 1 Axes>"
      ]
     },
     "metadata": {
      "needs_background": "light"
     },
     "output_type": "display_data"
    },
    {
     "data": {
      "image/png": "[encoded data removed]",
      "text/plain": [
       "<Figure size 432x288 with 1 Axes>"
      ]
     },
     "metadata": {
      "needs_background": "light"
     },
     "output_type": "display_data"
    },
    {
     "data": {
      "image/png": "[encoded data removed]",
      "text/plain": [
       "<Figure size 432x288 with 1 Axes>"
      ]
     },
     "metadata": {
      "needs_background": "light"
     },
     "output_type": "display_data"
    },
    {
     "data": {
      "image/png": "[encoded data removed]",
      "text/plain": [
       "<Figure size 432x288 with 1 Axes>"
      ]
     },
     "metadata": {
      "needs_background": "light"
     },
     "output_type": "display_data"
    },
    {
     "data": {
      "image/png": "[encoded data removed]",
      "text/plain": [
       "<Figure size 432x288 with 1 Axes>"
      ]
     },
     "metadata": {
      "needs_background": "light"
     },
     "output_type": "display_data"
    },
    {
     "data": {
      "image/png": "[encoded data removed]",
      "text/plain": [
       "<Figure size 432x288 with 1 Axes>"
      ]
     },
     "metadata": {
      "needs_background": "light"
     },
     "output_type": "display_data"
    },
    {
     "data": {
      "image/png": "[encoded data removed]",
      "text/plain": [
       "<Figure size 432x288 with 1 Axes>"
      ]
     },
     "metadata": {
      "needs_background": "light"
     },
     "output_type": "display_data"
    },
    {
     "data": {
      "image/png": "[encoded data removed]",
      "text/plain": [
       "<Figure size 432x288 with 1 Axes>"
      ]
     },
     "metadata": {
      "needs_background": "light"
     },
     "output_type": "display_data"
    },
    {
     "data": {
      "image/png": "[encoded data removed]",
      "text/plain": [
       "<Figure size 432x288 with 1 Axes>"
      ]
     },
     "metadata": {
      "needs_background": "light"
     },
     "output_type": "display_data"
    },
    {
     "data": {
      "image/png": "[encoded data removed]",
      "text/plain": [
       "<Figure size 432x288 with 1 Axes>"
      ]
     },
     "metadata": {
      "needs_background": "light"
     },
     "output_type": "display_data"
    }
   ],
   "source": [
    "for features in Numerical_features:\n",
    "    df.boxplot(column=features)\n",
    "    plt.show()"
   ]
  },
  {
   "cell_type": "code",
   "execution_count": 21,
   "id": "deb75a35",
   "metadata": {},
   "outputs": [],
   "source": [
    "for features in Numerical_features:\n",
    "    q3=df[features].quantile(0.75)\n",
    "    q1=df[features].quantile(0.25)\n",
    "    IQR=q3-q1\n",
    "    max_range=q3+(1.5*IQR)\n",
    "    min_range=q1-(1.5*IQR)\n",
    "    df.loc[df[features]>max_range,features]=max_range"
   ]
  },
  {
   "cell_type": "code",
   "execution_count": 22,
   "id": "f7fb62d3",
   "metadata": {},
   "outputs": [
    {
     "data": {
      "image/png": "[encoded data removed]",
      "text/plain": [
       "<Figure size 432x288 with 1 Axes>"
      ]
     },
     "metadata": {
      "needs_background": "light"
     },
     "output_type": "display_data"
    },
    {
     "data": {
      "image/png": "[encoded data removed]",
      "text/plain": [
       "<Figure size 432x288 with 1 Axes>"
      ]
     },
     "metadata": {
      "needs_background": "light"
     },
     "output_type": "display_data"
    },
    {
     "data": {
      "image/png": "[encoded data removed]",
      "text/plain": [
       "<Figure size 432x288 with 1 Axes>"
      ]
     },
     "metadata": {
      "needs_background": "light"
     },
     "output_type": "display_data"
    },
    {
     "data": {
      "image/png": "[encoded data removed]",
      "text/plain": [
       "<Figure size 432x288 with 1 Axes>"
      ]
     },
     "metadata": {
      "needs_background": "light"
     },
     "output_type": "display_data"
    },
    {
     "data": {
      "image/png": "[encoded data removed]",
      "text/plain": [
       "<Figure size 432x288 with 1 Axes>"
      ]
     },
     "metadata": {
      "needs_background": "light"
     },
     "output_type": "display_data"
    },
    {
     "data": {
      "image/png": "[encoded data removed]",
      "text/plain": [
       "<Figure size 432x288 with 1 Axes>"
      ]
     },
     "metadata": {
      "needs_background": "light"
     },
     "output_type": "display_data"
    },
    {
     "data": {
      "image/png": "[encoded data removed]",
      "text/plain": [
       "<Figure size 432x288 with 1 Axes>"
      ]
     },
     "metadata": {
      "needs_background": "light"
     },
     "output_type": "display_data"
    },
    {
     "data": {
      "image/png": "[encoded data removed]",
      "text/plain": [
       "<Figure size 432x288 with 1 Axes>"
      ]
     },
     "metadata": {
      "needs_background": "light"
     },
     "output_type": "display_data"
    },
    {
     "data": {
      "image/png": "[encoded data removed]",
      "text/plain": [
       "<Figure size 432x288 with 1 Axes>"
      ]
     },
     "metadata": {
      "needs_background": "light"
     },
     "output_type": "display_data"
    },
    {
     "data": {
      "image/png": "[encoded data removed]",
      "text/plain": [
       "<Figure size 432x288 with 1 Axes>"
      ]
     },
     "metadata": {
      "needs_background": "light"
     },
     "output_type": "display_data"
    },
    {
     "data": {
      "image/png": "[encoded data removed]",
      "text/plain": [
       "<Figure size 432x288 with 1 Axes>"
      ]
     },
     "metadata": {
      "needs_background": "light"
     },
     "output_type": "display_data"
    },
    {
     "data": {
      "image/png": "[encoded data removed]",
      "text/plain": [
       "<Figure size 432x288 with 1 Axes>"
      ]
     },
     "metadata": {
      "needs_background": "light"
     },
     "output_type": "display_data"
    },
    {
     "data": {
      "image/png": "[encoded data removed]",
      "text/plain": [
       "<Figure size 432x288 with 1 Axes>"
      ]
     },
     "metadata": {
      "needs_background": "light"
     },
     "output_type": "display_data"
    },
    {
     "data": {
      "image/png": "[encoded data removed]",
      "text/plain": [
       "<Figure size 432x288 with 1 Axes>"
      ]
     },
     "metadata": {
      "needs_background": "light"
     },
     "output_type": "display_data"
    },
    {
     "data": {
      "image/png": "[encoded data removed]",
      "text/plain": [
       "<Figure size 432x288 with 1 Axes>"
      ]
     },
     "metadata": {
      "needs_background": "light"
     },
     "output_type": "display_data"
    },
    {
     "data": {
      "image/png": "[encoded data removed]",
      "text/plain": [
       "<Figure size 432x288 with 1 Axes>"
      ]
     },
     "metadata": {
      "needs_background": "light"
     },
     "output_type": "display_data"
    }
   ],
   "source": [
    "for features in Numerical_features:\n",
    "    df.boxplot(column=features)\n",
    "    plt.show()"
   ]
  },
  {
   "cell_type": "code",
   "execution_count": 23,
   "id": "2ed413b3",
   "metadata": {},
   "outputs": [
    {
     "data": {
      "text/plain": [
       "Index(['City', 'PM2.5', 'PM10', 'NO', 'NO2', 'NOx', 'NH3', 'CO', 'SO2', 'O3',\n",
       "       'Benzene', 'Toluene', 'Xylene', 'AQI', 'Year', 'Month', 'Day'],\n",
       "      dtype='object')"
      ]
     },
     "execution_count": 23,
     "metadata": {},
     "output_type": "execute_result"
    }
   ],
   "source": [
    "df.columns"
   ]
  },
  {
   "cell_type": "code",
   "execution_count": 24,
   "id": "b4974465",
   "metadata": {},
   "outputs": [],
   "source": [
    "#sns.pairplot(df)"
   ]
  },
  {
   "cell_type": "markdown",
   "id": "18307460",
   "metadata": {},
   "source": [
    "## FEATURE ENGINEERING"
   ]
  },
  {
   "cell_type": "markdown",
   "id": "e8211b78",
   "metadata": {},
   "source": [
    "        "
   ]
  },
  {
   "cell_type": "code",
   "execution_count": 25,
   "id": "da10b33d",
   "metadata": {},
   "outputs": [],
   "source": [
    "for features in df.columns:\n",
    "    df[features].fillna(df[features].mode(),inplace=True)"
   ]
  },
  {
   "cell_type": "code",
   "execution_count": 26,
   "id": "bd354e46",
   "metadata": {},
   "outputs": [
    {
     "data": {
      "text/plain": [
       "City       0\n",
       "PM2.5      0\n",
       "PM10       0\n",
       "NO         0\n",
       "NO2        0\n",
       "NOx        0\n",
       "NH3        0\n",
       "CO         0\n",
       "SO2        0\n",
       "O3         0\n",
       "Benzene    0\n",
       "Toluene    0\n",
       "Xylene     0\n",
       "AQI        0\n",
       "Year       0\n",
       "Month      0\n",
       "Day        0\n",
       "dtype: int64"
      ]
     },
     "execution_count": 26,
     "metadata": {},
     "output_type": "execute_result"
    }
   ],
   "source": [
    "\n",
    "df['PM2.5'].median()\n",
    "df['PM10'].median()\n",
    "df['NO'].median()\n",
    "df['NO2'].median()\n",
    "df['NOx'].median()\n",
    "df['NH3'].median()\n",
    "df['CO'].median()\n",
    "df['SO2'].median()\n",
    "df['O3'].median()\n",
    "df['Benzene'].median()\n",
    "df['Toluene'].median()\n",
    "df['Xylene'].median()\n",
    "df['AQI'].median()\n",
    "df['PM2.5'].fillna(df['PM2.5'].median(),inplace=True)\n",
    "df['PM10'].fillna(df['PM10'].median(),inplace=True)\n",
    "df['NO'].fillna(df['NO'].median(),inplace=True)\n",
    "df['NO2'].fillna(df['NO2'].median(),inplace=True)\n",
    "df['NOx'].fillna(df['NOx'].median(),inplace=True)\n",
    "df['NH3'].fillna(df['NH3'].median(),inplace=True)\n",
    "df['CO'].fillna(df['CO'].median(),inplace=True)\n",
    "df['SO2'].fillna(df['SO2'].median(),inplace=True)\n",
    "df['O3'].fillna(df['O3'].median(),inplace=True)\n",
    "df['Benzene'].fillna(df['Benzene'].median(),inplace=True)\n",
    "df['Toluene'].fillna(df['Toluene'].median(),inplace=True)\n",
    "df['Xylene'].fillna(df['Xylene'].median(),inplace=True)\n",
    "df['AQI'].fillna(df['AQI'].median(),inplace=True)\n",
    "\n",
    "df.isnull().sum()"
   ]
  },
  {
   "cell_type": "code",
   "execution_count": 27,
   "id": "1c2ffd49",
   "metadata": {},
   "outputs": [],
   "source": [
    "## SCALING\n",
    "## MIN_MAX_SCALER\n",
    "## STANDARDSCALER"
   ]
  },
  {
   "cell_type": "code",
   "execution_count": 28,
   "id": "2f6f8284",
   "metadata": {},
   "outputs": [
    {
     "data": {
      "text/plain": [
       "(28474, 17)"
      ]
     },
     "execution_count": 28,
     "metadata": {},
     "output_type": "execute_result"
    }
   ],
   "source": [
    "df.shape"
   ]
  },
  {
   "cell_type": "code",
   "execution_count": 29,
   "id": "0753dddf",
   "metadata": {},
   "outputs": [
    {
     "data": {
      "text/html": [
       "<div>\n",
       "<style scoped>\n",
       "    .dataframe tbody tr th:only-of-type {\n",
       "        vertical-align: middle;\n",
       "    }\n",
       "\n",
       "    .dataframe tbody tr th {\n",
       "        vertical-align: top;\n",
       "    }\n",
       "\n",
       "    .dataframe thead th {\n",
       "        text-align: right;\n",
       "    }\n",
       "</style>\n",
       "<table border=\"1\" class=\"dataframe\">\n",
       "  <thead>\n",
       "    <tr style=\"text-align: right;\">\n",
       "      <th></th>\n",
       "      <th>count</th>\n",
       "      <th>mean</th>\n",
       "      <th>std</th>\n",
       "      <th>min</th>\n",
       "      <th>25%</th>\n",
       "      <th>50%</th>\n",
       "      <th>75%</th>\n",
       "      <th>max</th>\n",
       "    </tr>\n",
       "  </thead>\n",
       "  <tbody>\n",
       "    <tr>\n",
       "      <th>PM2.5</th>\n",
       "      <td>28474.0</td>\n",
       "      <td>60.787798</td>\n",
       "      <td>40.224472</td>\n",
       "      <td>0.04</td>\n",
       "      <td>33.4800</td>\n",
       "      <td>50.220</td>\n",
       "      <td>73.9800</td>\n",
       "      <td>161.48750</td>\n",
       "    </tr>\n",
       "    <tr>\n",
       "      <th>PM10</th>\n",
       "      <td>28474.0</td>\n",
       "      <td>109.523038</td>\n",
       "      <td>58.577664</td>\n",
       "      <td>0.01</td>\n",
       "      <td>84.0200</td>\n",
       "      <td>98.820</td>\n",
       "      <td>113.7725</td>\n",
       "      <td>292.57500</td>\n",
       "    </tr>\n",
       "    <tr>\n",
       "      <th>NO</th>\n",
       "      <td>28474.0</td>\n",
       "      <td>14.275951</td>\n",
       "      <td>11.841107</td>\n",
       "      <td>0.02</td>\n",
       "      <td>6.3600</td>\n",
       "      <td>10.080</td>\n",
       "      <td>17.9575</td>\n",
       "      <td>42.48500</td>\n",
       "    </tr>\n",
       "    <tr>\n",
       "      <th>NO2</th>\n",
       "      <td>28474.0</td>\n",
       "      <td>26.959879</td>\n",
       "      <td>18.645249</td>\n",
       "      <td>0.01</td>\n",
       "      <td>13.2500</td>\n",
       "      <td>22.110</td>\n",
       "      <td>35.0900</td>\n",
       "      <td>77.15125</td>\n",
       "    </tr>\n",
       "    <tr>\n",
       "      <th>NOx</th>\n",
       "      <td>28474.0</td>\n",
       "      <td>29.124795</td>\n",
       "      <td>21.515255</td>\n",
       "      <td>0.00</td>\n",
       "      <td>14.8100</td>\n",
       "      <td>23.910</td>\n",
       "      <td>36.5000</td>\n",
       "      <td>82.66875</td>\n",
       "    </tr>\n",
       "    <tr>\n",
       "      <th>NH3</th>\n",
       "      <td>28474.0</td>\n",
       "      <td>19.746812</td>\n",
       "      <td>13.858897</td>\n",
       "      <td>0.01</td>\n",
       "      <td>12.3125</td>\n",
       "      <td>16.170</td>\n",
       "      <td>21.9600</td>\n",
       "      <td>63.04750</td>\n",
       "    </tr>\n",
       "    <tr>\n",
       "      <th>CO</th>\n",
       "      <td>28474.0</td>\n",
       "      <td>1.082381</td>\n",
       "      <td>0.802095</td>\n",
       "      <td>0.00</td>\n",
       "      <td>0.5500</td>\n",
       "      <td>0.905</td>\n",
       "      <td>1.4000</td>\n",
       "      <td>2.89500</td>\n",
       "    </tr>\n",
       "    <tr>\n",
       "      <th>SO2</th>\n",
       "      <td>28474.0</td>\n",
       "      <td>11.584720</td>\n",
       "      <td>7.984194</td>\n",
       "      <td>0.01</td>\n",
       "      <td>6.0900</td>\n",
       "      <td>9.220</td>\n",
       "      <td>14.0500</td>\n",
       "      <td>30.44000</td>\n",
       "    </tr>\n",
       "    <tr>\n",
       "      <th>O3</th>\n",
       "      <td>28474.0</td>\n",
       "      <td>33.529356</td>\n",
       "      <td>18.476751</td>\n",
       "      <td>0.01</td>\n",
       "      <td>20.8000</td>\n",
       "      <td>30.835</td>\n",
       "      <td>42.6100</td>\n",
       "      <td>85.54125</td>\n",
       "    </tr>\n",
       "    <tr>\n",
       "      <th>Benzene</th>\n",
       "      <td>28474.0</td>\n",
       "      <td>1.857064</td>\n",
       "      <td>2.127876</td>\n",
       "      <td>0.00</td>\n",
       "      <td>0.2800</td>\n",
       "      <td>1.120</td>\n",
       "      <td>2.4900</td>\n",
       "      <td>7.67500</td>\n",
       "    </tr>\n",
       "    <tr>\n",
       "      <th>Toluene</th>\n",
       "      <td>28474.0</td>\n",
       "      <td>5.500801</td>\n",
       "      <td>6.522144</td>\n",
       "      <td>0.00</td>\n",
       "      <td>1.4225</td>\n",
       "      <td>3.100</td>\n",
       "      <td>6.1400</td>\n",
       "      <td>22.33500</td>\n",
       "    </tr>\n",
       "    <tr>\n",
       "      <th>Xylene</th>\n",
       "      <td>28474.0</td>\n",
       "      <td>1.470745</td>\n",
       "      <td>1.795835</td>\n",
       "      <td>0.00</td>\n",
       "      <td>0.9800</td>\n",
       "      <td>0.980</td>\n",
       "      <td>0.9800</td>\n",
       "      <td>8.14000</td>\n",
       "    </tr>\n",
       "    <tr>\n",
       "      <th>AQI</th>\n",
       "      <td>28474.0</td>\n",
       "      <td>154.938014</td>\n",
       "      <td>98.365863</td>\n",
       "      <td>13.00</td>\n",
       "      <td>91.0000</td>\n",
       "      <td>121.000</td>\n",
       "      <td>184.0000</td>\n",
       "      <td>413.00000</td>\n",
       "    </tr>\n",
       "    <tr>\n",
       "      <th>Year</th>\n",
       "      <td>28474.0</td>\n",
       "      <td>15.669383</td>\n",
       "      <td>8.901920</td>\n",
       "      <td>1.00</td>\n",
       "      <td>8.0000</td>\n",
       "      <td>16.000</td>\n",
       "      <td>23.0000</td>\n",
       "      <td>31.00000</td>\n",
       "    </tr>\n",
       "    <tr>\n",
       "      <th>Month</th>\n",
       "      <td>28474.0</td>\n",
       "      <td>6.372305</td>\n",
       "      <td>3.467862</td>\n",
       "      <td>1.00</td>\n",
       "      <td>3.0000</td>\n",
       "      <td>6.000</td>\n",
       "      <td>9.0000</td>\n",
       "      <td>12.00000</td>\n",
       "    </tr>\n",
       "    <tr>\n",
       "      <th>Day</th>\n",
       "      <td>28474.0</td>\n",
       "      <td>17.816640</td>\n",
       "      <td>1.513977</td>\n",
       "      <td>15.00</td>\n",
       "      <td>17.0000</td>\n",
       "      <td>18.000</td>\n",
       "      <td>19.0000</td>\n",
       "      <td>20.00000</td>\n",
       "    </tr>\n",
       "  </tbody>\n",
       "</table>\n",
       "</div>"
      ],
      "text/plain": [
       "           count        mean        std    min      25%      50%       75%  \\\n",
       "PM2.5    28474.0   60.787798  40.224472   0.04  33.4800   50.220   73.9800   \n",
       "PM10     28474.0  109.523038  58.577664   0.01  84.0200   98.820  113.7725   \n",
       "NO       28474.0   14.275951  11.841107   0.02   6.3600   10.080   17.9575   \n",
       "NO2      28474.0   26.959879  18.645249   0.01  13.2500   22.110   35.0900   \n",
       "NOx      28474.0   29.124795  21.515255   0.00  14.8100   23.910   36.5000   \n",
       "NH3      28474.0   19.746812  13.858897   0.01  12.3125   16.170   21.9600   \n",
       "CO       28474.0    1.082381   0.802095   0.00   0.5500    0.905    1.4000   \n",
       "SO2      28474.0   11.584720   7.984194   0.01   6.0900    9.220   14.0500   \n",
       "O3       28474.0   33.529356  18.476751   0.01  20.8000   30.835   42.6100   \n",
       "Benzene  28474.0    1.857064   2.127876   0.00   0.2800    1.120    2.4900   \n",
       "Toluene  28474.0    5.500801   6.522144   0.00   1.4225    3.100    6.1400   \n",
       "Xylene   28474.0    1.470745   1.795835   0.00   0.9800    0.980    0.9800   \n",
       "AQI      28474.0  154.938014  98.365863  13.00  91.0000  121.000  184.0000   \n",
       "Year     28474.0   15.669383   8.901920   1.00   8.0000   16.000   23.0000   \n",
       "Month    28474.0    6.372305   3.467862   1.00   3.0000    6.000    9.0000   \n",
       "Day      28474.0   17.816640   1.513977  15.00  17.0000   18.000   19.0000   \n",
       "\n",
       "               max  \n",
       "PM2.5    161.48750  \n",
       "PM10     292.57500  \n",
       "NO        42.48500  \n",
       "NO2       77.15125  \n",
       "NOx       82.66875  \n",
       "NH3       63.04750  \n",
       "CO         2.89500  \n",
       "SO2       30.44000  \n",
       "O3        85.54125  \n",
       "Benzene    7.67500  \n",
       "Toluene   22.33500  \n",
       "Xylene     8.14000  \n",
       "AQI      413.00000  \n",
       "Year      31.00000  \n",
       "Month     12.00000  \n",
       "Day       20.00000  "
      ]
     },
     "execution_count": 29,
     "metadata": {},
     "output_type": "execute_result"
    }
   ],
   "source": [
    "df.describe().transpose()"
   ]
  },
  {
   "cell_type": "code",
   "execution_count": 30,
   "id": "2045202f",
   "metadata": {},
   "outputs": [],
   "source": [
    "df = pd.get_dummies(df, columns = ['City'])"
   ]
  },
  {
   "cell_type": "code",
   "execution_count": 31,
   "id": "a98e8b03",
   "metadata": {},
   "outputs": [
    {
     "data": {
      "text/html": [
       "<div>\n",
       "<style scoped>\n",
       "    .dataframe tbody tr th:only-of-type {\n",
       "        vertical-align: middle;\n",
       "    }\n",
       "\n",
       "    .dataframe tbody tr th {\n",
       "        vertical-align: top;\n",
       "    }\n",
       "\n",
       "    .dataframe thead th {\n",
       "        text-align: right;\n",
       "    }\n",
       "</style>\n",
       "<table border=\"1\" class=\"dataframe\">\n",
       "  <thead>\n",
       "    <tr style=\"text-align: right;\">\n",
       "      <th></th>\n",
       "      <th>PM2.5</th>\n",
       "      <th>PM10</th>\n",
       "      <th>NO</th>\n",
       "      <th>NO2</th>\n",
       "      <th>NOx</th>\n",
       "      <th>NH3</th>\n",
       "      <th>CO</th>\n",
       "      <th>SO2</th>\n",
       "      <th>O3</th>\n",
       "      <th>Benzene</th>\n",
       "      <th>...</th>\n",
       "      <th>City_Jorapokhar</th>\n",
       "      <th>City_Kochi</th>\n",
       "      <th>City_Kolkata</th>\n",
       "      <th>City_Lucknow</th>\n",
       "      <th>City_Mumbai</th>\n",
       "      <th>City_Patna</th>\n",
       "      <th>City_Shillong</th>\n",
       "      <th>City_Talcher</th>\n",
       "      <th>City_Thiruvananthapuram</th>\n",
       "      <th>City_Visakhapatnam</th>\n",
       "    </tr>\n",
       "  </thead>\n",
       "  <tbody>\n",
       "    <tr>\n",
       "      <th>count</th>\n",
       "      <td>28474.000000</td>\n",
       "      <td>28474.000000</td>\n",
       "      <td>28474.000000</td>\n",
       "      <td>28474.000000</td>\n",
       "      <td>28474.000000</td>\n",
       "      <td>28474.000000</td>\n",
       "      <td>28474.000000</td>\n",
       "      <td>28474.000000</td>\n",
       "      <td>28474.000000</td>\n",
       "      <td>28474.000000</td>\n",
       "      <td>...</td>\n",
       "      <td>28474.000000</td>\n",
       "      <td>28474.000000</td>\n",
       "      <td>28474.000000</td>\n",
       "      <td>28474.000000</td>\n",
       "      <td>28474.000000</td>\n",
       "      <td>28474.000000</td>\n",
       "      <td>28474.000000</td>\n",
       "      <td>28474.000000</td>\n",
       "      <td>28474.000000</td>\n",
       "      <td>28474.000000</td>\n",
       "    </tr>\n",
       "    <tr>\n",
       "      <th>mean</th>\n",
       "      <td>60.787798</td>\n",
       "      <td>109.523038</td>\n",
       "      <td>14.275951</td>\n",
       "      <td>26.959879</td>\n",
       "      <td>29.124795</td>\n",
       "      <td>19.746812</td>\n",
       "      <td>1.082381</td>\n",
       "      <td>11.584720</td>\n",
       "      <td>33.529356</td>\n",
       "      <td>1.857064</td>\n",
       "      <td>...</td>\n",
       "      <td>0.041055</td>\n",
       "      <td>0.005689</td>\n",
       "      <td>0.026445</td>\n",
       "      <td>0.068413</td>\n",
       "      <td>0.070556</td>\n",
       "      <td>0.065253</td>\n",
       "      <td>0.008745</td>\n",
       "      <td>0.030343</td>\n",
       "      <td>0.039053</td>\n",
       "      <td>0.051345</td>\n",
       "    </tr>\n",
       "    <tr>\n",
       "      <th>std</th>\n",
       "      <td>40.224472</td>\n",
       "      <td>58.577664</td>\n",
       "      <td>11.841107</td>\n",
       "      <td>18.645249</td>\n",
       "      <td>21.515255</td>\n",
       "      <td>13.858897</td>\n",
       "      <td>0.802095</td>\n",
       "      <td>7.984194</td>\n",
       "      <td>18.476751</td>\n",
       "      <td>2.127876</td>\n",
       "      <td>...</td>\n",
       "      <td>0.198421</td>\n",
       "      <td>0.075215</td>\n",
       "      <td>0.160458</td>\n",
       "      <td>0.252458</td>\n",
       "      <td>0.256086</td>\n",
       "      <td>0.246975</td>\n",
       "      <td>0.093106</td>\n",
       "      <td>0.171534</td>\n",
       "      <td>0.193725</td>\n",
       "      <td>0.220705</td>\n",
       "    </tr>\n",
       "    <tr>\n",
       "      <th>min</th>\n",
       "      <td>0.040000</td>\n",
       "      <td>0.010000</td>\n",
       "      <td>0.020000</td>\n",
       "      <td>0.010000</td>\n",
       "      <td>0.000000</td>\n",
       "      <td>0.010000</td>\n",
       "      <td>0.000000</td>\n",
       "      <td>0.010000</td>\n",
       "      <td>0.010000</td>\n",
       "      <td>0.000000</td>\n",
       "      <td>...</td>\n",
       "      <td>0.000000</td>\n",
       "      <td>0.000000</td>\n",
       "      <td>0.000000</td>\n",
       "      <td>0.000000</td>\n",
       "      <td>0.000000</td>\n",
       "      <td>0.000000</td>\n",
       "      <td>0.000000</td>\n",
       "      <td>0.000000</td>\n",
       "      <td>0.000000</td>\n",
       "      <td>0.000000</td>\n",
       "    </tr>\n",
       "    <tr>\n",
       "      <th>25%</th>\n",
       "      <td>33.480000</td>\n",
       "      <td>84.020000</td>\n",
       "      <td>6.360000</td>\n",
       "      <td>13.250000</td>\n",
       "      <td>14.810000</td>\n",
       "      <td>12.312500</td>\n",
       "      <td>0.550000</td>\n",
       "      <td>6.090000</td>\n",
       "      <td>20.800000</td>\n",
       "      <td>0.280000</td>\n",
       "      <td>...</td>\n",
       "      <td>0.000000</td>\n",
       "      <td>0.000000</td>\n",
       "      <td>0.000000</td>\n",
       "      <td>0.000000</td>\n",
       "      <td>0.000000</td>\n",
       "      <td>0.000000</td>\n",
       "      <td>0.000000</td>\n",
       "      <td>0.000000</td>\n",
       "      <td>0.000000</td>\n",
       "      <td>0.000000</td>\n",
       "    </tr>\n",
       "    <tr>\n",
       "      <th>50%</th>\n",
       "      <td>50.220000</td>\n",
       "      <td>98.820000</td>\n",
       "      <td>10.080000</td>\n",
       "      <td>22.110000</td>\n",
       "      <td>23.910000</td>\n",
       "      <td>16.170000</td>\n",
       "      <td>0.905000</td>\n",
       "      <td>9.220000</td>\n",
       "      <td>30.835000</td>\n",
       "      <td>1.120000</td>\n",
       "      <td>...</td>\n",
       "      <td>0.000000</td>\n",
       "      <td>0.000000</td>\n",
       "      <td>0.000000</td>\n",
       "      <td>0.000000</td>\n",
       "      <td>0.000000</td>\n",
       "      <td>0.000000</td>\n",
       "      <td>0.000000</td>\n",
       "      <td>0.000000</td>\n",
       "      <td>0.000000</td>\n",
       "      <td>0.000000</td>\n",
       "    </tr>\n",
       "    <tr>\n",
       "      <th>75%</th>\n",
       "      <td>73.980000</td>\n",
       "      <td>113.772500</td>\n",
       "      <td>17.957500</td>\n",
       "      <td>35.090000</td>\n",
       "      <td>36.500000</td>\n",
       "      <td>21.960000</td>\n",
       "      <td>1.400000</td>\n",
       "      <td>14.050000</td>\n",
       "      <td>42.610000</td>\n",
       "      <td>2.490000</td>\n",
       "      <td>...</td>\n",
       "      <td>0.000000</td>\n",
       "      <td>0.000000</td>\n",
       "      <td>0.000000</td>\n",
       "      <td>0.000000</td>\n",
       "      <td>0.000000</td>\n",
       "      <td>0.000000</td>\n",
       "      <td>0.000000</td>\n",
       "      <td>0.000000</td>\n",
       "      <td>0.000000</td>\n",
       "      <td>0.000000</td>\n",
       "    </tr>\n",
       "    <tr>\n",
       "      <th>max</th>\n",
       "      <td>161.487500</td>\n",
       "      <td>292.575000</td>\n",
       "      <td>42.485000</td>\n",
       "      <td>77.151250</td>\n",
       "      <td>82.668750</td>\n",
       "      <td>63.047500</td>\n",
       "      <td>2.895000</td>\n",
       "      <td>30.440000</td>\n",
       "      <td>85.541250</td>\n",
       "      <td>7.675000</td>\n",
       "      <td>...</td>\n",
       "      <td>1.000000</td>\n",
       "      <td>1.000000</td>\n",
       "      <td>1.000000</td>\n",
       "      <td>1.000000</td>\n",
       "      <td>1.000000</td>\n",
       "      <td>1.000000</td>\n",
       "      <td>1.000000</td>\n",
       "      <td>1.000000</td>\n",
       "      <td>1.000000</td>\n",
       "      <td>1.000000</td>\n",
       "    </tr>\n",
       "  </tbody>\n",
       "</table>\n",
       "<p>8 rows × 41 columns</p>\n",
       "</div>"
      ],
      "text/plain": [
       "              PM2.5          PM10            NO           NO2           NOx  \\\n",
       "count  28474.000000  28474.000000  28474.000000  28474.000000  28474.000000   \n",
       "mean      60.787798    109.523038     14.275951     26.959879     29.124795   \n",
       "std       40.224472     58.577664     11.841107     18.645249     21.515255   \n",
       "min        0.040000      0.010000      0.020000      0.010000      0.000000   \n",
       "25%       33.480000     84.020000      6.360000     13.250000     14.810000   \n",
       "50%       50.220000     98.820000     10.080000     22.110000     23.910000   \n",
       "75%       73.980000    113.772500     17.957500     35.090000     36.500000   \n",
       "max      161.487500    292.575000     42.485000     77.151250     82.668750   \n",
       "\n",
       "                NH3            CO           SO2            O3       Benzene  \\\n",
       "count  28474.000000  28474.000000  28474.000000  28474.000000  28474.000000   \n",
       "mean      19.746812      1.082381     11.584720     33.529356      1.857064   \n",
       "std       13.858897      0.802095      7.984194     18.476751      2.127876   \n",
       "min        0.010000      0.000000      0.010000      0.010000      0.000000   \n",
       "25%       12.312500      0.550000      6.090000     20.800000      0.280000   \n",
       "50%       16.170000      0.905000      9.220000     30.835000      1.120000   \n",
       "75%       21.960000      1.400000     14.050000     42.610000      2.490000   \n",
       "max       63.047500      2.895000     30.440000     85.541250      7.675000   \n",
       "\n",
       "       ...  City_Jorapokhar    City_Kochi  City_Kolkata  City_Lucknow  \\\n",
       "count  ...     28474.000000  28474.000000  28474.000000  28474.000000   \n",
       "mean   ...         0.041055      0.005689      0.026445      0.068413   \n",
       "std    ...         0.198421      0.075215      0.160458      0.252458   \n",
       "min    ...         0.000000      0.000000      0.000000      0.000000   \n",
       "25%    ...         0.000000      0.000000      0.000000      0.000000   \n",
       "50%    ...         0.000000      0.000000      0.000000      0.000000   \n",
       "75%    ...         0.000000      0.000000      0.000000      0.000000   \n",
       "max    ...         1.000000      1.000000      1.000000      1.000000   \n",
       "\n",
       "        City_Mumbai    City_Patna  City_Shillong  City_Talcher  \\\n",
       "count  28474.000000  28474.000000   28474.000000  28474.000000   \n",
       "mean       0.070556      0.065253       0.008745      0.030343   \n",
       "std        0.256086      0.246975       0.093106      0.171534   \n",
       "min        0.000000      0.000000       0.000000      0.000000   \n",
       "25%        0.000000      0.000000       0.000000      0.000000   \n",
       "50%        0.000000      0.000000       0.000000      0.000000   \n",
       "75%        0.000000      0.000000       0.000000      0.000000   \n",
       "max        1.000000      1.000000       1.000000      1.000000   \n",
       "\n",
       "       City_Thiruvananthapuram  City_Visakhapatnam  \n",
       "count             28474.000000        28474.000000  \n",
       "mean                  0.039053            0.051345  \n",
       "std                   0.193725            0.220705  \n",
       "min                   0.000000            0.000000  \n",
       "25%                   0.000000            0.000000  \n",
       "50%                   0.000000            0.000000  \n",
       "75%                   0.000000            0.000000  \n",
       "max                   1.000000            1.000000  \n",
       "\n",
       "[8 rows x 41 columns]"
      ]
     },
     "execution_count": 31,
     "metadata": {},
     "output_type": "execute_result"
    }
   ],
   "source": [
    "df.describe()"
   ]
  },
  {
   "cell_type": "code",
   "execution_count": 32,
   "id": "18f96708",
   "metadata": {},
   "outputs": [
    {
     "name": "stdout",
     "output_type": "stream",
     "text": [
      "<class 'pandas.core.frame.DataFrame'>\n",
      "RangeIndex: 28474 entries, 0 to 28473\n",
      "Data columns (total 41 columns):\n",
      " #   Column                   Non-Null Count  Dtype  \n",
      "---  ------                   --------------  -----  \n",
      " 0   PM2.5                    28474 non-null  float64\n",
      " 1   PM10                     28474 non-null  float64\n",
      " 2   NO                       28474 non-null  float64\n",
      " 3   NO2                      28474 non-null  float64\n",
      " 4   NOx                      28474 non-null  float64\n",
      " 5   NH3                      28474 non-null  float64\n",
      " 6   CO                       28474 non-null  float64\n",
      " 7   SO2                      28474 non-null  float64\n",
      " 8   O3                       28474 non-null  float64\n",
      " 9   Benzene                  28474 non-null  float64\n",
      " 10  Toluene                  28474 non-null  float64\n",
      " 11  Xylene                   28474 non-null  float64\n",
      " 12  AQI                      28474 non-null  float64\n",
      " 13  Year                     28474 non-null  float64\n",
      " 14  Month                    28474 non-null  int64  \n",
      " 15  Day                      28474 non-null  int32  \n",
      " 16  City_Ahmedabad           28474 non-null  uint8  \n",
      " 17  City_Aizawl              28474 non-null  uint8  \n",
      " 18  City_Amaravati           28474 non-null  uint8  \n",
      " 19  City_Amritsar            28474 non-null  uint8  \n",
      " 20  City_Bengaluru           28474 non-null  uint8  \n",
      " 21  City_Bhopal              28474 non-null  uint8  \n",
      " 22  City_Brajrajnagar        28474 non-null  uint8  \n",
      " 23  City_Chandigarh          28474 non-null  uint8  \n",
      " 24  City_Chennai             28474 non-null  uint8  \n",
      " 25  City_Delhi               28474 non-null  uint8  \n",
      " 26  City_Ernakulam           28474 non-null  uint8  \n",
      " 27  City_Gurugram            28474 non-null  uint8  \n",
      " 28  City_Guwahati            28474 non-null  uint8  \n",
      " 29  City_Hyderabad           28474 non-null  uint8  \n",
      " 30  City_Jaipur              28474 non-null  uint8  \n",
      " 31  City_Jorapokhar          28474 non-null  uint8  \n",
      " 32  City_Kochi               28474 non-null  uint8  \n",
      " 33  City_Kolkata             28474 non-null  uint8  \n",
      " 34  City_Lucknow             28474 non-null  uint8  \n",
      " 35  City_Mumbai              28474 non-null  uint8  \n",
      " 36  City_Patna               28474 non-null  uint8  \n",
      " 37  City_Shillong            28474 non-null  uint8  \n",
      " 38  City_Talcher             28474 non-null  uint8  \n",
      " 39  City_Thiruvananthapuram  28474 non-null  uint8  \n",
      " 40  City_Visakhapatnam       28474 non-null  uint8  \n",
      "dtypes: float64(14), int32(1), int64(1), uint8(25)\n",
      "memory usage: 4.0 MB\n"
     ]
    }
   ],
   "source": [
    "df.info()"
   ]
  },
  {
   "cell_type": "code",
   "execution_count": 54,
   "id": "623da0fb",
   "metadata": {},
   "outputs": [
    {
     "data": {
      "text/html": [
       "<div>\n",
       "<style scoped>\n",
       "    .dataframe tbody tr th:only-of-type {\n",
       "        vertical-align: middle;\n",
       "    }\n",
       "\n",
       "    .dataframe tbody tr th {\n",
       "        vertical-align: top;\n",
       "    }\n",
       "\n",
       "    .dataframe thead th {\n",
       "        text-align: right;\n",
       "    }\n",
       "</style>\n",
       "<table border=\"1\" class=\"dataframe\">\n",
       "  <thead>\n",
       "    <tr style=\"text-align: right;\">\n",
       "      <th></th>\n",
       "      <th>PM2.5</th>\n",
       "      <th>PM10</th>\n",
       "      <th>NO</th>\n",
       "      <th>NO2</th>\n",
       "      <th>NOx</th>\n",
       "      <th>NH3</th>\n",
       "      <th>CO</th>\n",
       "      <th>SO2</th>\n",
       "      <th>O3</th>\n",
       "      <th>Benzene</th>\n",
       "      <th>Toluene</th>\n",
       "      <th>Xylene</th>\n",
       "      <th>AQI</th>\n",
       "    </tr>\n",
       "  </thead>\n",
       "  <tbody>\n",
       "    <tr>\n",
       "      <th>PM2.5</th>\n",
       "      <td>1.000000</td>\n",
       "      <td>0.846679</td>\n",
       "      <td>0.437598</td>\n",
       "      <td>0.345607</td>\n",
       "      <td>0.437040</td>\n",
       "      <td>0.268597</td>\n",
       "      <td>0.084788</td>\n",
       "      <td>0.125952</td>\n",
       "      <td>0.161329</td>\n",
       "      <td>0.022713</td>\n",
       "      <td>0.110953</td>\n",
       "      <td>0.114223</td>\n",
       "      <td>0.653242</td>\n",
       "    </tr>\n",
       "    <tr>\n",
       "      <th>PM10</th>\n",
       "      <td>0.846679</td>\n",
       "      <td>1.000000</td>\n",
       "      <td>0.513213</td>\n",
       "      <td>0.466391</td>\n",
       "      <td>0.536646</td>\n",
       "      <td>0.372451</td>\n",
       "      <td>0.107867</td>\n",
       "      <td>0.251471</td>\n",
       "      <td>0.244459</td>\n",
       "      <td>0.019435</td>\n",
       "      <td>0.161769</td>\n",
       "      <td>0.080117</td>\n",
       "      <td>0.799633</td>\n",
       "    </tr>\n",
       "    <tr>\n",
       "      <th>NO</th>\n",
       "      <td>0.437598</td>\n",
       "      <td>0.513213</td>\n",
       "      <td>1.000000</td>\n",
       "      <td>0.486432</td>\n",
       "      <td>0.799437</td>\n",
       "      <td>0.181205</td>\n",
       "      <td>0.215555</td>\n",
       "      <td>0.169442</td>\n",
       "      <td>0.014452</td>\n",
       "      <td>0.037521</td>\n",
       "      <td>0.147913</td>\n",
       "      <td>0.091046</td>\n",
       "      <td>0.452481</td>\n",
       "    </tr>\n",
       "    <tr>\n",
       "      <th>NO2</th>\n",
       "      <td>0.345607</td>\n",
       "      <td>0.466391</td>\n",
       "      <td>0.486432</td>\n",
       "      <td>1.000000</td>\n",
       "      <td>0.625927</td>\n",
       "      <td>0.232090</td>\n",
       "      <td>0.357331</td>\n",
       "      <td>0.393526</td>\n",
       "      <td>0.299080</td>\n",
       "      <td>0.027489</td>\n",
       "      <td>0.275901</td>\n",
       "      <td>0.172695</td>\n",
       "      <td>0.535585</td>\n",
       "    </tr>\n",
       "    <tr>\n",
       "      <th>NOx</th>\n",
       "      <td>0.437040</td>\n",
       "      <td>0.536646</td>\n",
       "      <td>0.799437</td>\n",
       "      <td>0.625927</td>\n",
       "      <td>1.000000</td>\n",
       "      <td>0.159664</td>\n",
       "      <td>0.227507</td>\n",
       "      <td>0.238354</td>\n",
       "      <td>0.094596</td>\n",
       "      <td>0.041511</td>\n",
       "      <td>0.189958</td>\n",
       "      <td>0.085871</td>\n",
       "      <td>0.484945</td>\n",
       "    </tr>\n",
       "    <tr>\n",
       "      <th>NH3</th>\n",
       "      <td>0.268597</td>\n",
       "      <td>0.372451</td>\n",
       "      <td>0.181205</td>\n",
       "      <td>0.232090</td>\n",
       "      <td>0.159664</td>\n",
       "      <td>1.000000</td>\n",
       "      <td>0.101745</td>\n",
       "      <td>-0.042917</td>\n",
       "      <td>0.091729</td>\n",
       "      <td>-0.016701</td>\n",
       "      <td>0.008987</td>\n",
       "      <td>-0.019522</td>\n",
       "      <td>0.244053</td>\n",
       "    </tr>\n",
       "    <tr>\n",
       "      <th>CO</th>\n",
       "      <td>0.084788</td>\n",
       "      <td>0.107867</td>\n",
       "      <td>0.215555</td>\n",
       "      <td>0.357331</td>\n",
       "      <td>0.227507</td>\n",
       "      <td>0.101745</td>\n",
       "      <td>1.000000</td>\n",
       "      <td>0.488690</td>\n",
       "      <td>0.042027</td>\n",
       "      <td>0.062156</td>\n",
       "      <td>0.277799</td>\n",
       "      <td>0.155610</td>\n",
       "      <td>0.684560</td>\n",
       "    </tr>\n",
       "    <tr>\n",
       "      <th>SO2</th>\n",
       "      <td>0.125952</td>\n",
       "      <td>0.251471</td>\n",
       "      <td>0.169442</td>\n",
       "      <td>0.393526</td>\n",
       "      <td>0.238354</td>\n",
       "      <td>-0.042917</td>\n",
       "      <td>0.488690</td>\n",
       "      <td>1.000000</td>\n",
       "      <td>0.162836</td>\n",
       "      <td>0.036143</td>\n",
       "      <td>0.295037</td>\n",
       "      <td>0.251533</td>\n",
       "      <td>0.488201</td>\n",
       "    </tr>\n",
       "    <tr>\n",
       "      <th>O3</th>\n",
       "      <td>0.161329</td>\n",
       "      <td>0.244459</td>\n",
       "      <td>0.014452</td>\n",
       "      <td>0.299080</td>\n",
       "      <td>0.094596</td>\n",
       "      <td>0.091729</td>\n",
       "      <td>0.042027</td>\n",
       "      <td>0.162836</td>\n",
       "      <td>1.000000</td>\n",
       "      <td>0.023263</td>\n",
       "      <td>0.132557</td>\n",
       "      <td>0.111468</td>\n",
       "      <td>0.197726</td>\n",
       "    </tr>\n",
       "    <tr>\n",
       "      <th>Benzene</th>\n",
       "      <td>0.022713</td>\n",
       "      <td>0.019435</td>\n",
       "      <td>0.037521</td>\n",
       "      <td>0.027489</td>\n",
       "      <td>0.041511</td>\n",
       "      <td>-0.016701</td>\n",
       "      <td>0.062156</td>\n",
       "      <td>0.036143</td>\n",
       "      <td>0.023263</td>\n",
       "      <td>1.000000</td>\n",
       "      <td>0.738083</td>\n",
       "      <td>0.417503</td>\n",
       "      <td>0.044239</td>\n",
       "    </tr>\n",
       "    <tr>\n",
       "      <th>Toluene</th>\n",
       "      <td>0.110953</td>\n",
       "      <td>0.161769</td>\n",
       "      <td>0.147913</td>\n",
       "      <td>0.275901</td>\n",
       "      <td>0.189958</td>\n",
       "      <td>0.008987</td>\n",
       "      <td>0.277799</td>\n",
       "      <td>0.295037</td>\n",
       "      <td>0.132557</td>\n",
       "      <td>0.738083</td>\n",
       "      <td>1.000000</td>\n",
       "      <td>0.425423</td>\n",
       "      <td>0.277149</td>\n",
       "    </tr>\n",
       "    <tr>\n",
       "      <th>Xylene</th>\n",
       "      <td>0.114223</td>\n",
       "      <td>0.080117</td>\n",
       "      <td>0.091046</td>\n",
       "      <td>0.172695</td>\n",
       "      <td>0.085871</td>\n",
       "      <td>-0.019522</td>\n",
       "      <td>0.155610</td>\n",
       "      <td>0.251533</td>\n",
       "      <td>0.111468</td>\n",
       "      <td>0.417503</td>\n",
       "      <td>0.425423</td>\n",
       "      <td>1.000000</td>\n",
       "      <td>0.165694</td>\n",
       "    </tr>\n",
       "    <tr>\n",
       "      <th>AQI</th>\n",
       "      <td>0.653242</td>\n",
       "      <td>0.799633</td>\n",
       "      <td>0.452481</td>\n",
       "      <td>0.535585</td>\n",
       "      <td>0.484945</td>\n",
       "      <td>0.244053</td>\n",
       "      <td>0.684560</td>\n",
       "      <td>0.488201</td>\n",
       "      <td>0.197726</td>\n",
       "      <td>0.044239</td>\n",
       "      <td>0.277149</td>\n",
       "      <td>0.165694</td>\n",
       "      <td>1.000000</td>\n",
       "    </tr>\n",
       "  </tbody>\n",
       "</table>\n",
       "</div>"
      ],
      "text/plain": [
       "            PM2.5      PM10        NO       NO2       NOx       NH3        CO  \\\n",
       "PM2.5    1.000000  0.846679  0.437598  0.345607  0.437040  0.268597  0.084788   \n",
       "PM10     0.846679  1.000000  0.513213  0.466391  0.536646  0.372451  0.107867   \n",
       "NO       0.437598  0.513213  1.000000  0.486432  0.799437  0.181205  0.215555   \n",
       "NO2      0.345607  0.466391  0.486432  1.000000  0.625927  0.232090  0.357331   \n",
       "NOx      0.437040  0.536646  0.799437  0.625927  1.000000  0.159664  0.227507   \n",
       "NH3      0.268597  0.372451  0.181205  0.232090  0.159664  1.000000  0.101745   \n",
       "CO       0.084788  0.107867  0.215555  0.357331  0.227507  0.101745  1.000000   \n",
       "SO2      0.125952  0.251471  0.169442  0.393526  0.238354 -0.042917  0.488690   \n",
       "O3       0.161329  0.244459  0.014452  0.299080  0.094596  0.091729  0.042027   \n",
       "Benzene  0.022713  0.019435  0.037521  0.027489  0.041511 -0.016701  0.062156   \n",
       "Toluene  0.110953  0.161769  0.147913  0.275901  0.189958  0.008987  0.277799   \n",
       "Xylene   0.114223  0.080117  0.091046  0.172695  0.085871 -0.019522  0.155610   \n",
       "AQI      0.653242  0.799633  0.452481  0.535585  0.484945  0.244053  0.684560   \n",
       "\n",
       "              SO2        O3   Benzene   Toluene    Xylene       AQI  \n",
       "PM2.5    0.125952  0.161329  0.022713  0.110953  0.114223  0.653242  \n",
       "PM10     0.251471  0.244459  0.019435  0.161769  0.080117  0.799633  \n",
       "NO       0.169442  0.014452  0.037521  0.147913  0.091046  0.452481  \n",
       "NO2      0.393526  0.299080  0.027489  0.275901  0.172695  0.535585  \n",
       "NOx      0.238354  0.094596  0.041511  0.189958  0.085871  0.484945  \n",
       "NH3     -0.042917  0.091729 -0.016701  0.008987 -0.019522  0.244053  \n",
       "CO       0.488690  0.042027  0.062156  0.277799  0.155610  0.684560  \n",
       "SO2      1.000000  0.162836  0.036143  0.295037  0.251533  0.488201  \n",
       "O3       0.162836  1.000000  0.023263  0.132557  0.111468  0.197726  \n",
       "Benzene  0.036143  0.023263  1.000000  0.738083  0.417503  0.044239  \n",
       "Toluene  0.295037  0.132557  0.738083  1.000000  0.425423  0.277149  \n",
       "Xylene   0.251533  0.111468  0.417503  0.425423  1.000000  0.165694  \n",
       "AQI      0.488201  0.197726  0.044239  0.277149  0.165694  1.000000  "
      ]
     },
     "execution_count": 54,
     "metadata": {},
     "output_type": "execute_result"
    }
   ],
   "source": [
    "df.corr()"
   ]
  },
  {
   "cell_type": "code",
   "execution_count": 33,
   "id": "7ff201ce",
   "metadata": {},
   "outputs": [],
   "source": [
    "x=df.drop(['AQI'],axis=1)\n",
    "y=df['AQI']"
   ]
  },
  {
   "cell_type": "code",
   "execution_count": 34,
   "id": "ddbf5eb6",
   "metadata": {},
   "outputs": [
    {
     "name": "stdout",
     "output_type": "stream",
     "text": [
      "(22779, 40)\n",
      "(22779,)\n"
     ]
    }
   ],
   "source": [
    "X_train,X_test,Y_train,Y_test=train_test_split(x,y,test_size=0.2,random_state=42)\n",
    "print(X_train.shape)\n",
    "print(Y_train.shape)"
   ]
  },
  {
   "cell_type": "markdown",
   "id": "c6f00075",
   "metadata": {},
   "source": [
    "## RANDOMFOREST"
   ]
  },
  {
   "cell_type": "code",
   "execution_count": 41,
   "id": "a8c17ee5",
   "metadata": {},
   "outputs": [],
   "source": [
    "clf=RandomForestRegressor()"
   ]
  },
  {
   "cell_type": "code",
   "execution_count": 42,
   "id": "a9013e96",
   "metadata": {},
   "outputs": [
    {
     "data": {
      "text/plain": [
       "RandomForestRegressor()"
      ]
     },
     "execution_count": 42,
     "metadata": {},
     "output_type": "execute_result"
    }
   ],
   "source": [
    "clf.fit(X_train,Y_train)"
   ]
  },
  {
   "cell_type": "code",
   "execution_count": null,
   "id": "3e6ef17a",
   "metadata": {},
   "outputs": [],
   "source": []
  },
  {
   "cell_type": "code",
   "execution_count": 43,
   "id": "cdf7d445",
   "metadata": {},
   "outputs": [],
   "source": [
    "score=clf.score(X_test,Y_test)"
   ]
  },
  {
   "cell_type": "code",
   "execution_count": 44,
   "id": "18855bff",
   "metadata": {},
   "outputs": [
    {
     "data": {
      "text/plain": [
       "0.9030712819842981"
      ]
     },
     "execution_count": 44,
     "metadata": {},
     "output_type": "execute_result"
    }
   ],
   "source": [
    "score"
   ]
  },
  {
   "cell_type": "code",
   "execution_count": 48,
   "id": "71188613",
   "metadata": {},
   "outputs": [],
   "source": [
    "Y_true=clf.predict(X_test)"
   ]
  },
  {
   "cell_type": "code",
   "execution_count": 49,
   "id": "80a805eb",
   "metadata": {},
   "outputs": [],
   "source": [
    "error=mean_squared_error(Y_test,Y_true)"
   ]
  },
  {
   "cell_type": "code",
   "execution_count": 50,
   "id": "4526d92c",
   "metadata": {},
   "outputs": [
    {
     "data": {
      "text/plain": [
       "932.6058110623353"
      ]
     },
     "execution_count": 50,
     "metadata": {},
     "output_type": "execute_result"
    }
   ],
   "source": [
    "error"
   ]
  },
  {
   "cell_type": "code",
   "execution_count": 52,
   "id": "eae55452",
   "metadata": {},
   "outputs": [],
   "source": [
    "er=mean_absolute_error(Y_test,Y_true)"
   ]
  },
  {
   "cell_type": "code",
   "execution_count": 53,
   "id": "eb2aebd0",
   "metadata": {},
   "outputs": [
    {
     "data": {
      "text/plain": [
       "17.301387181738367"
      ]
     },
     "execution_count": 53,
     "metadata": {},
     "output_type": "execute_result"
    }
   ],
   "source": [
    "er"
   ]
  },
  {
   "cell_type": "markdown",
   "id": "29b0bfe0",
   "metadata": {},
   "source": [
    "## LINEAR REGRESSION"
   ]
  },
  {
   "cell_type": "code",
   "execution_count": 56,
   "id": "88754b4e",
   "metadata": {},
   "outputs": [],
   "source": [
    "model2=LinearRegression()"
   ]
  },
  {
   "cell_type": "code",
   "execution_count": 57,
   "id": "d111fcf9",
   "metadata": {},
   "outputs": [
    {
     "data": {
      "text/plain": [
       "LinearRegression()"
      ]
     },
     "execution_count": 57,
     "metadata": {},
     "output_type": "execute_result"
    }
   ],
   "source": [
    "model2.fit(X_train,Y_train)"
   ]
  },
  {
   "cell_type": "code",
   "execution_count": 62,
   "id": "6c0ab83d",
   "metadata": {},
   "outputs": [],
   "source": [
    "score=model2.score(X_test,Y_test)"
   ]
  },
  {
   "cell_type": "code",
   "execution_count": 63,
   "id": "95bcc219",
   "metadata": {},
   "outputs": [
    {
     "data": {
      "text/plain": [
       "0.8127311812532636"
      ]
     },
     "execution_count": 63,
     "metadata": {},
     "output_type": "execute_result"
    }
   ],
   "source": [
    "score"
   ]
  },
  {
   "cell_type": "code",
   "execution_count": 58,
   "id": "b046d8fe",
   "metadata": {},
   "outputs": [],
   "source": [
    "y_pred=model2.predict(X_test)"
   ]
  },
  {
   "cell_type": "code",
   "execution_count": null,
   "id": "ca39f0fe",
   "metadata": {},
   "outputs": [],
   "source": []
  },
  {
   "cell_type": "code",
   "execution_count": 60,
   "id": "9af2067d",
   "metadata": {},
   "outputs": [],
   "source": [
    "error2=mean_squared_error(Y_test,y_pred)"
   ]
  },
  {
   "cell_type": "code",
   "execution_count": 61,
   "id": "4b5e52bd",
   "metadata": {},
   "outputs": [
    {
     "data": {
      "text/plain": [
       "1801.818822835287"
      ]
     },
     "execution_count": 61,
     "metadata": {},
     "output_type": "execute_result"
    }
   ],
   "source": [
    "error2"
   ]
  },
  {
   "cell_type": "markdown",
   "id": "0e72bc79",
   "metadata": {},
   "source": [
    "## DECISIONTREE"
   ]
  },
  {
   "cell_type": "code",
   "execution_count": 65,
   "id": "e49f26b6",
   "metadata": {},
   "outputs": [],
   "source": [
    "model3=DecisionTreeRegressor()"
   ]
  },
  {
   "cell_type": "code",
   "execution_count": 66,
   "id": "3599943d",
   "metadata": {},
   "outputs": [
    {
     "data": {
      "text/plain": [
       "DecisionTreeRegressor()"
      ]
     },
     "execution_count": 66,
     "metadata": {},
     "output_type": "execute_result"
    }
   ],
   "source": [
    "model3.fit(X_train,Y_train)"
   ]
  },
  {
   "cell_type": "code",
   "execution_count": 67,
   "id": "c5b1be03",
   "metadata": {},
   "outputs": [],
   "source": [
    "score=model3.score(X_test,Y_test)"
   ]
  },
  {
   "cell_type": "code",
   "execution_count": 68,
   "id": "b4d2c98e",
   "metadata": {},
   "outputs": [
    {
     "data": {
      "text/plain": [
       "0.8106109655443491"
      ]
     },
     "execution_count": 68,
     "metadata": {},
     "output_type": "execute_result"
    }
   ],
   "source": [
    "score"
   ]
  },
  {
   "cell_type": "code",
   "execution_count": 69,
   "id": "95a4022c",
   "metadata": {},
   "outputs": [],
   "source": [
    "y_pred=model3.predict(X_test)"
   ]
  },
  {
   "cell_type": "code",
   "execution_count": 70,
   "id": "851cb415",
   "metadata": {},
   "outputs": [],
   "source": [
    "error3=mean_squared_error(Y_test,y_pred)"
   ]
  },
  {
   "cell_type": "code",
   "execution_count": 71,
   "id": "f0c3d817",
   "metadata": {},
   "outputs": [
    {
     "data": {
      "text/plain": [
       "1822.2186128182616"
      ]
     },
     "execution_count": 71,
     "metadata": {},
     "output_type": "execute_result"
    }
   ],
   "source": [
    "error3"
   ]
  },
  {
   "cell_type": "code",
   "execution_count": null,
   "id": "14034136",
   "metadata": {},
   "outputs": [],
   "source": []
  }
 ],
 "metadata": {
  "kernelspec": {
   "display_name": "Python 3 (ipykernel)",
   "language": "python",
   "name": "python3"
  },
  "language_info": {
   "codemirror_mode": {
    "name": "ipython",
    "version": 3
   },
   "file_extension": ".py",
   "mimetype": "text/x-python",
   "name": "python",
   "nbconvert_exporter": "python",
   "pygments_lexer": "ipython3",
   "version": "3.9.7"
  }
 },
 "nbformat": 4,
 "nbformat_minor": 5
}
